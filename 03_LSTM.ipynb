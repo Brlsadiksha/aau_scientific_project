{
  "cells": [
    {
      "cell_type": "code",
      "execution_count": null,
      "metadata": {
        "id": "RyzpSHaTMOLU"
      },
      "outputs": [],
      "source": [
        "import pandas as pd\n",
        "import numpy as np\n",
        "import seaborn as sns\n",
        "import matplotlib.pyplot as plt\n",
        "import keras\n",
        "import joblib\n",
        "\n",
        "from keras.preprocessing.text import Tokenizer\n",
        "from keras.preprocessing.sequence import pad_sequences\n",
        "\n",
        "from keras.models import Sequential\n",
        "from keras.layers import Dense, Activation, Embedding, Flatten, GlobalMaxPool1D, Dropout, Conv1D, LSTM\n",
        "from keras.callbacks import ReduceLROnPlateau, EarlyStopping, ModelCheckpoint\n",
        "from keras.losses import binary_crossentropy\n",
        "from keras.optimizers import Adam\n",
        "\n",
        "from sklearn.metrics import accuracy_score, precision_score, recall_score, f1_score\n",
        "from torcheval.metrics import MultilabelAccuracy\n",
        "import torch\n",
        "from prettytable import PrettyTable\n",
        "\n",
        "from matplotlib import pyplot as plt"
      ]
    },
    {
      "cell_type": "code",
      "execution_count": null,
      "metadata": {
        "id": "UWMPDU_6MP22"
      },
      "outputs": [],
      "source": [
        "train_df = joblib.load('data/train_df.joblib')\n",
        "test_df = joblib.load('data/test_df.joblib')"
      ]
    },
    {
      "cell_type": "code",
      "execution_count": null,
      "metadata": {
        "id": "ySm1OWEjiEey"
      },
      "outputs": [],
      "source": [
        "category_idx_to_text = {0: 'ambience', 1: 'food', 2: 'other', 3: 'price', 4: 'service'}\n",
        "polarity_idx_to_text = {0: 'negative', 1: 'neutral', 2: 'positive'}\n",
        "joint_idx_to_text = {0: 'ambience#negative', 1: 'ambience#neutral', 2: 'ambience#positive', 3: 'food#negative', 4: 'food#neutral', 5: 'food#positive', 6: 'other#negative', 7: 'other#neutral', 8: 'other#positive', 9: 'price#negative', 10: 'price#neutral', 11: 'price#positive', 12: 'service#negative', 13: 'service#neutral', 14: 'service#positive'}"
      ]
    },
    {
      "cell_type": "code",
      "execution_count": null,
      "metadata": {
        "colab": {
          "base_uri": "https://localhost:8080/"
        },
        "id": "aWXaWbHidMOQ",
        "outputId": "9b45e6a3-3948-499e-fb71-0e40c1cb7c2d"
      },
      "outputs": [
        {
          "data": {
            "text/plain": [
              "6"
            ]
          },
          "execution_count": 6,
          "metadata": {},
          "output_type": "execute_result"
        }
      ],
      "source": [
        "(train_df['text'].apply(len) > 180).sum()"
      ]
    },
    {
      "cell_type": "code",
      "execution_count": null,
      "metadata": {
        "id": "sFbtZxdGh6E4"
      },
      "outputs": [],
      "source": [
        "maxlen = 180   # only 6 reviews longer than 180 char\n",
        "max_words = 5000\n",
        "tokenizer = Tokenizer(num_words=max_words, lower=True)\n",
        "tokenizer.fit_on_texts(train_df[\"text\"])\n",
        "\n",
        "def get_features(text_series):\n",
        "    \"\"\"\n",
        "    transforms text data to feature_vectors that can be used in the ml model.\n",
        "    tokenizer must be available.\n",
        "    \"\"\"\n",
        "    sequences = tokenizer.texts_to_sequences(text_series)\n",
        "    return pad_sequences(sequences, maxlen=maxlen)\n",
        "\n",
        "\n",
        "def prediction_to_label(prediction):\n",
        "    tag_prob = [(labels[i], prob) for i, prob in enumerate(prediction.tolist())]\n",
        "    return dict(sorted(tag_prob, key=lambda kv: kv[1], reverse=True))"
      ]
    },
    {
      "cell_type": "code",
      "execution_count": null,
      "metadata": {
        "id": "-sesahEkej3C"
      },
      "outputs": [],
      "source": [
        "class LSTMmodel:\n",
        "    def __init__(self, num_classes):\n",
        "        filter_length = 300\n",
        "\n",
        "        model = Sequential()\n",
        "        model.add(Embedding(max_words, 20, input_length=maxlen))\n",
        "        model.add(Dropout(0.1))\n",
        "        model.add(LSTM(filter_length, return_sequences=True))\n",
        "        model.add(GlobalMaxPool1D())\n",
        "        model.add(Dense(num_classes))\n",
        "        model.add(Activation('sigmoid'))\n",
        "\n",
        "        model.compile(optimizer='adam', loss='binary_crossentropy', metrics=['categorical_accuracy'])\n",
        "        model.summary()\n",
        "\n",
        "        self.model = model"
      ]
    },
    {
      "cell_type": "code",
      "execution_count": null,
      "metadata": {
        "id": "Zvb33YOVFdJA"
      },
      "outputs": [],
      "source": [
        "def model_metrics(test_labels, predictions):\n",
        "    accuracy = accuracy_score(test_labels, predictions)\n",
        "\n",
        "    exact_accuracy = MultilabelAccuracy(criteria='exact_match')\n",
        "    exact_accuracy.update(target=torch.Tensor(test_labels), input=torch.Tensor(predictions))\n",
        "\n",
        "    overlap_accuracy = MultilabelAccuracy(criteria='overlap')\n",
        "    overlap_accuracy.update(target=torch.Tensor(test_labels), input=torch.Tensor(predictions))\n",
        "\n",
        "    macro_f1 = f1_score(test_labels, predictions, average='macro')\n",
        "    micro_f1 = f1_score(test_labels, predictions, average='micro')\n",
        "\n",
        "    metrics = {}\n",
        "    metrics = {\n",
        "        'accuracy' : accuracy,\n",
        "        'exact_match_accuracy': exact_accuracy.compute().detach().item(),\n",
        "        'overlap_accuracy': overlap_accuracy.compute().detach().item(),\n",
        "        'macro_f1': macro_f1,\n",
        "        'micro_f1': micro_f1\n",
        "    }\n",
        "\n",
        "    return metrics\n",
        "\n",
        "def pretty_table(dict):\n",
        "    table = PrettyTable()\n",
        "    table.field_names = ['metric', 'value']\n",
        "    for k,v in dict.items():\n",
        "        table.add_row([k, v])\n",
        "    print(table)"
      ]
    },
    {
      "cell_type": "code",
      "execution_count": null,
      "metadata": {
        "id": "G8NoMVXCBX-q"
      },
      "outputs": [],
      "source": [
        "def plot_history(history, path):\n",
        "    # Create a figure and a 1x2 grid of subplots\n",
        "    fig, axes = plt.subplots(nrows=1, ncols=2, figsize=(12, 5))\n",
        "\n",
        "    # Plot the first subplot on the left\n",
        "    axes[0].plot(history.history['categorical_accuracy'])\n",
        "    axes[0].plot(history.history['val_categorical_accuracy'])\n",
        "    axes[0].set_title('model categorical accuracy')\n",
        "    axes[0].set_ylabel('accuracy')\n",
        "    axes[0].set_xlabel('epoch')\n",
        "    axes[0].legend(['train', 'val'], loc='upper left')\n",
        "\n",
        "        # Plot the first subplot on the left\n",
        "    axes[1].plot(history.history['loss'])\n",
        "    axes[1].plot(history.history['val_loss'])\n",
        "    axes[1].set_title('model loss')\n",
        "    axes[1].set_ylabel('loss')\n",
        "    axes[1].set_xlabel('epoch')\n",
        "    axes[1].legend(['train', 'val'], loc='upper left')\n",
        "\n",
        "    # Adjust layout for better spacing\n",
        "    plt.tight_layout()\n",
        "    plt.savefig(path)\n",
        "    plt.show()"
      ]
    },
    {
      "cell_type": "markdown",
      "metadata": {
        "id": "mv6UPfWQFOlt"
      },
      "source": [
        "## Category classification"
      ]
    },
    {
      "cell_type": "code",
      "execution_count": null,
      "metadata": {
        "id": "qXcOsJUJCfxd"
      },
      "outputs": [],
      "source": [
        "category_labels = category_idx_to_text.values()\n",
        "\n",
        "x_train_category = get_features(train_df[\"text\"])\n",
        "x_test_category = get_features(test_df[\"text\"])\n",
        "\n",
        "y_train_category = np.array(train_df[\"category_labels\"].tolist())\n",
        "y_test_category = np.array(test_df[\"category_labels\"].tolist())"
      ]
    },
    {
      "cell_type": "code",
      "execution_count": null,
      "metadata": {
        "colab": {
          "base_uri": "https://localhost:8080/"
        },
        "id": "WZ95O7aQCfQC",
        "outputId": "5348f16d-f131-4f5b-cc7d-1bb2acf7dee0"
      },
      "outputs": [
        {
          "name": "stdout",
          "output_type": "stream",
          "text": [
            "Model: \"sequential\"\n",
            "_________________________________________________________________\n",
            " Layer (type)                Output Shape              Param #   \n",
            "=================================================================\n",
            " embedding (Embedding)       (None, 180, 20)           100000    \n",
            "                                                                 \n",
            " dropout (Dropout)           (None, 180, 20)           0         \n",
            "                                                                 \n",
            " lstm (LSTM)                 (None, 180, 300)          385200    \n",
            "                                                                 \n",
            " global_max_pooling1d (Glob  (None, 300)               0         \n",
            " alMaxPooling1D)                                                 \n",
            "                                                                 \n",
            " dense (Dense)               (None, 5)                 1505      \n",
            "                                                                 \n",
            " activation (Activation)     (None, 5)                 0         \n",
            "                                                                 \n",
            "=================================================================\n",
            "Total params: 486705 (1.86 MB)\n",
            "Trainable params: 486705 (1.86 MB)\n",
            "Non-trainable params: 0 (0.00 Byte)\n",
            "_________________________________________________________________\n"
          ]
        }
      ],
      "source": [
        "num_classes  = 5\n",
        "\n",
        "callbacks = [\n",
        "            ReduceLROnPlateau(),\n",
        "            EarlyStopping(patience=4),\n",
        "            ModelCheckpoint(filepath='category_model.model', save_best_only=True)\n",
        "        ]\n",
        "\n",
        "category_model = LSTMmodel(num_classes)"
      ]
    },
    {
      "cell_type": "code",
      "execution_count": null,
      "metadata": {
        "colab": {
          "base_uri": "https://localhost:8080/"
        },
        "id": "ranXCVKRi6Zm",
        "outputId": "743bbe16-fa1d-4c0b-eecf-e6229556996b"
      },
      "outputs": [
        {
          "name": "stdout",
          "output_type": "stream",
          "text": [
            "Epoch 1/20\n",
            "81/81 [==============================] - 22s 207ms/step - loss: 0.5287 - categorical_accuracy: 0.3545 - val_loss: 0.5096 - val_categorical_accuracy: 0.3636 - lr: 0.0010\n",
            "Epoch 2/20\n",
            "81/81 [==============================] - 10s 118ms/step - loss: 0.5131 - categorical_accuracy: 0.3701 - val_loss: 0.5059 - val_categorical_accuracy: 0.3636 - lr: 0.0010\n",
            "Epoch 3/20\n",
            "81/81 [==============================] - 6s 75ms/step - loss: 0.5018 - categorical_accuracy: 0.4897 - val_loss: 0.4857 - val_categorical_accuracy: 0.5524 - lr: 0.0010\n",
            "Epoch 4/20\n",
            "81/81 [==============================] - 7s 87ms/step - loss: 0.4504 - categorical_accuracy: 0.6404 - val_loss: 0.4220 - val_categorical_accuracy: 0.6259 - lr: 0.0010\n",
            "Epoch 5/20\n",
            "81/81 [==============================] - 6s 67ms/step - loss: 0.3544 - categorical_accuracy: 0.6961 - val_loss: 0.3816 - val_categorical_accuracy: 0.6329 - lr: 0.0010\n",
            "Epoch 6/20\n",
            "81/81 [==============================] - 5s 67ms/step - loss: 0.2878 - categorical_accuracy: 0.7394 - val_loss: 0.3738 - val_categorical_accuracy: 0.6364 - lr: 0.0010\n",
            "Epoch 7/20\n",
            "81/81 [==============================] - 12s 151ms/step - loss: 0.2463 - categorical_accuracy: 0.7682 - val_loss: 0.3687 - val_categorical_accuracy: 0.6154 - lr: 0.0010\n",
            "Epoch 8/20\n",
            "81/81 [==============================] - 4s 47ms/step - loss: 0.2153 - categorical_accuracy: 0.7935 - val_loss: 0.3877 - val_categorical_accuracy: 0.6329 - lr: 0.0010\n",
            "Epoch 9/20\n",
            "81/81 [==============================] - 2s 24ms/step - loss: 0.1930 - categorical_accuracy: 0.8153 - val_loss: 0.3953 - val_categorical_accuracy: 0.5909 - lr: 0.0010\n",
            "Epoch 10/20\n",
            "81/81 [==============================] - 2s 29ms/step - loss: 0.1677 - categorical_accuracy: 0.8325 - val_loss: 0.3991 - val_categorical_accuracy: 0.6084 - lr: 0.0010\n",
            "Epoch 11/20\n",
            "81/81 [==============================] - 2s 20ms/step - loss: 0.1490 - categorical_accuracy: 0.8539 - val_loss: 0.4286 - val_categorical_accuracy: 0.6259 - lr: 0.0010\n"
          ]
        }
      ],
      "source": [
        "history_category = category_model.model.fit(x_train_category, y_train_category,\n",
        "                    epochs=20,\n",
        "                    batch_size=32,\n",
        "                    validation_split=0.1,\n",
        "                    callbacks=callbacks)"
      ]
    },
    {
      "cell_type": "code",
      "execution_count": null,
      "metadata": {
        "id": "aqaEV7Ick_tA"
      },
      "outputs": [],
      "source": [
        "lstm_model_category = keras.models.load_model('category_model.model')"
      ]
    },
    {
      "cell_type": "code",
      "execution_count": null,
      "metadata": {
        "colab": {
          "base_uri": "https://localhost:8080/"
        },
        "id": "Ep56EL1QlIQN",
        "outputId": "a2f19ffe-17f8-4a51-ac5f-1e05ce6c259b"
      },
      "outputs": [
        {
          "name": "stdout",
          "output_type": "stream",
          "text": [
            "24/24 [==============================] - 1s 11ms/step - loss: 0.3150 - categorical_accuracy: 0.6862\n"
          ]
        },
        {
          "data": {
            "text/plain": [
              "[0.31499937176704407, 0.6862483024597168]"
            ]
          },
          "execution_count": 15,
          "metadata": {},
          "output_type": "execute_result"
        }
      ],
      "source": [
        "lstm_model_category.evaluate(x_test_category, y_test_category)"
      ]
    },
    {
      "cell_type": "code",
      "execution_count": null,
      "metadata": {
        "colab": {
          "base_uri": "https://localhost:8080/"
        },
        "id": "8QjQFlRvp9yf",
        "outputId": "5b350d56-35bb-41b6-bc68-4851f3f52b24"
      },
      "outputs": [
        {
          "name": "stdout",
          "output_type": "stream",
          "text": [
            "24/24 [==============================] - 1s 7ms/step\n"
          ]
        }
      ],
      "source": [
        "predict_category = lstm_model_category.predict(x_test_category)\n",
        "threshold = 0.5\n",
        "\n",
        "# Convert to binary format\n",
        "predict_category = (predict_category > threshold).astype(int)"
      ]
    },
    {
      "cell_type": "code",
      "execution_count": null,
      "metadata": {
        "id": "H1ScTRlmmwuX"
      },
      "outputs": [],
      "source": [
        "metrics_category = model_metrics(predict_category, y_test_category)"
      ]
    },
    {
      "cell_type": "code",
      "execution_count": null,
      "metadata": {
        "colab": {
          "base_uri": "https://localhost:8080/"
        },
        "id": "Ek3JgROTrI9p",
        "outputId": "e00f5d7a-aec6-4325-84b5-ef92887faaf8"
      },
      "outputs": [
        {
          "name": "stdout",
          "output_type": "stream",
          "text": [
            "+----------------------+--------------------+\n",
            "|        metric        |       value        |\n",
            "+----------------------+--------------------+\n",
            "|       accuracy       | 0.5834445927903872 |\n",
            "| exact_match_accuracy | 0.5834445953369141 |\n",
            "|   overlap_accuracy   | 0.7636849284172058 |\n",
            "|       macro_f1       | 0.5011922015182886 |\n",
            "|       micro_f1       | 0.7412333736396615 |\n",
            "+----------------------+--------------------+\n"
          ]
        }
      ],
      "source": [
        "pretty_table(metrics_category)"
      ]
    },
    {
      "cell_type": "code",
      "execution_count": null,
      "metadata": {
        "id": "L6vl7zRuBnY-"
      },
      "outputs": [],
      "source": [
        "plot_history(history_category, '/lstm_category_plot.png')"
      ]
    },
    {
      "cell_type": "markdown",
      "metadata": {
        "id": "YWZtpsvcrdkE"
      },
      "source": [
        "## Sentiment polarity"
      ]
    },
    {
      "cell_type": "code",
      "execution_count": null,
      "metadata": {
        "id": "k98MvcYyrI7O"
      },
      "outputs": [],
      "source": [
        "polarity_labels = polarity_idx_to_text.values()\n",
        "\n",
        "x_train_polarity = get_features(train_df[\"text\"])\n",
        "x_test_polarity = get_features(test_df[\"text\"])\n",
        "\n",
        "y_train_polarity = np.array(train_df[\"polarity_labels\"].tolist())\n",
        "y_test_polarity = np.array(test_df[\"polarity_labels\"].tolist())"
      ]
    },
    {
      "cell_type": "code",
      "execution_count": null,
      "metadata": {
        "colab": {
          "base_uri": "https://localhost:8080/"
        },
        "id": "CdL5VUBPufps",
        "outputId": "0815db2a-67da-44eb-e00b-b5250e9419a6"
      },
      "outputs": [
        {
          "data": {
            "text/plain": [
              "dict_values(['negative', 'neutral', 'positive'])"
            ]
          },
          "execution_count": 21,
          "metadata": {},
          "output_type": "execute_result"
        }
      ],
      "source": [
        "polarity_labels"
      ]
    },
    {
      "cell_type": "code",
      "execution_count": null,
      "metadata": {
        "colab": {
          "base_uri": "https://localhost:8080/"
        },
        "id": "utgNE1mWrI4Z",
        "outputId": "e6a5433c-5894-4e08-e31d-990894f582d0"
      },
      "outputs": [
        {
          "name": "stdout",
          "output_type": "stream",
          "text": [
            "Model: \"sequential_1\"\n",
            "_________________________________________________________________\n",
            " Layer (type)                Output Shape              Param #   \n",
            "=================================================================\n",
            " embedding_1 (Embedding)     (None, 180, 20)           100000    \n",
            "                                                                 \n",
            " dropout_1 (Dropout)         (None, 180, 20)           0         \n",
            "                                                                 \n",
            " lstm_1 (LSTM)               (None, 180, 300)          385200    \n",
            "                                                                 \n",
            " global_max_pooling1d_1 (Gl  (None, 300)               0         \n",
            " obalMaxPooling1D)                                               \n",
            "                                                                 \n",
            " dense_1 (Dense)             (None, 3)                 903       \n",
            "                                                                 \n",
            " activation_1 (Activation)   (None, 3)                 0         \n",
            "                                                                 \n",
            "=================================================================\n",
            "Total params: 486103 (1.85 MB)\n",
            "Trainable params: 486103 (1.85 MB)\n",
            "Non-trainable params: 0 (0.00 Byte)\n",
            "_________________________________________________________________\n"
          ]
        }
      ],
      "source": [
        "num_classes  = len(polarity_labels)\n",
        "\n",
        "callbacks = [\n",
        "            ReduceLROnPlateau(),\n",
        "            EarlyStopping(patience=4),\n",
        "            ModelCheckpoint(filepath='polarity_model.model', save_best_only=True)\n",
        "        ]\n",
        "\n",
        "polarity_model = LSTMmodel(num_classes)"
      ]
    },
    {
      "cell_type": "code",
      "execution_count": null,
      "metadata": {
        "colab": {
          "base_uri": "https://localhost:8080/"
        },
        "id": "lEMviTU4oJU5",
        "outputId": "ba1525cc-3f22-4dc3-9e4c-d5805d60804f"
      },
      "outputs": [
        {
          "name": "stdout",
          "output_type": "stream",
          "text": [
            "Epoch 1/20\n",
            "81/81 [==============================] - 14s 141ms/step - loss: 0.5710 - categorical_accuracy: 0.5820 - val_loss: 0.5895 - val_categorical_accuracy: 0.5629 - lr: 0.0010\n",
            "Epoch 2/20\n",
            "81/81 [==============================] - 6s 77ms/step - loss: 0.5582 - categorical_accuracy: 0.5863 - val_loss: 0.5684 - val_categorical_accuracy: 0.5629 - lr: 0.0010\n",
            "Epoch 3/20\n",
            "81/81 [==============================] - 7s 85ms/step - loss: 0.5150 - categorical_accuracy: 0.5952 - val_loss: 0.5506 - val_categorical_accuracy: 0.4965 - lr: 0.0010\n",
            "Epoch 4/20\n",
            "81/81 [==============================] - 5s 65ms/step - loss: 0.4066 - categorical_accuracy: 0.7098 - val_loss: 0.4950 - val_categorical_accuracy: 0.6399 - lr: 0.0010\n",
            "Epoch 5/20\n",
            "81/81 [==============================] - 2s 18ms/step - loss: 0.3268 - categorical_accuracy: 0.7663 - val_loss: 0.5303 - val_categorical_accuracy: 0.6469 - lr: 0.0010\n",
            "Epoch 6/20\n",
            "81/81 [==============================] - 2s 27ms/step - loss: 0.2707 - categorical_accuracy: 0.8130 - val_loss: 0.5458 - val_categorical_accuracy: 0.6329 - lr: 0.0010\n",
            "Epoch 7/20\n",
            "81/81 [==============================] - 2s 26ms/step - loss: 0.2377 - categorical_accuracy: 0.8566 - val_loss: 0.6032 - val_categorical_accuracy: 0.6294 - lr: 0.0010\n",
            "Epoch 8/20\n",
            "81/81 [==============================] - 2s 20ms/step - loss: 0.1930 - categorical_accuracy: 0.8909 - val_loss: 0.6108 - val_categorical_accuracy: 0.6294 - lr: 0.0010\n"
          ]
        }
      ],
      "source": [
        "history_polarity = polarity_model.model.fit(x_train_polarity, y_train_polarity,\n",
        "                    epochs=20,\n",
        "                    batch_size=32,\n",
        "                    validation_split=0.1,\n",
        "                    callbacks=callbacks)"
      ]
    },
    {
      "cell_type": "code",
      "execution_count": null,
      "metadata": {
        "id": "9LkDZpLir5uG"
      },
      "outputs": [],
      "source": [
        "lstm_model_polarity = keras.models.load_model('polarity_model.model')"
      ]
    },
    {
      "cell_type": "code",
      "execution_count": null,
      "metadata": {
        "colab": {
          "base_uri": "https://localhost:8080/"
        },
        "id": "BauY6k5-r5qS",
        "outputId": "b19ff3aa-7d31-4ca2-8e64-194c74927453"
      },
      "outputs": [
        {
          "name": "stdout",
          "output_type": "stream",
          "text": [
            "24/24 [==============================] - 1s 10ms/step - loss: 0.3941 - categorical_accuracy: 0.7356\n"
          ]
        },
        {
          "data": {
            "text/plain": [
              "[0.3941097855567932, 0.7356475591659546]"
            ]
          },
          "execution_count": 25,
          "metadata": {},
          "output_type": "execute_result"
        }
      ],
      "source": [
        "lstm_model_polarity.evaluate(x_test_polarity, y_test_polarity)"
      ]
    },
    {
      "cell_type": "code",
      "execution_count": null,
      "metadata": {
        "colab": {
          "base_uri": "https://localhost:8080/"
        },
        "id": "WewkXJhMr5mm",
        "outputId": "7e9cbf27-0a39-43e7-c514-2dfe7cc26bda"
      },
      "outputs": [
        {
          "name": "stdout",
          "output_type": "stream",
          "text": [
            "24/24 [==============================] - 1s 7ms/step\n"
          ]
        }
      ],
      "source": [
        "predict_polarity = lstm_model_polarity.predict(x_test_polarity)\n",
        "threshold = 0.5\n",
        "\n",
        "# Convert to binary format\n",
        "predict_polarity = (predict_polarity > threshold).astype(int)"
      ]
    },
    {
      "cell_type": "code",
      "execution_count": null,
      "metadata": {
        "id": "N3MT7Klqr5iT"
      },
      "outputs": [],
      "source": [
        "metrics_polarity = model_metrics(predict_polarity, y_test_polarity)"
      ]
    },
    {
      "cell_type": "code",
      "execution_count": null,
      "metadata": {
        "colab": {
          "base_uri": "https://localhost:8080/"
        },
        "id": "KRzwEWDdr5eP",
        "outputId": "f80ad9b2-fd20-4c7b-f152-e8e6f7cec31c"
      },
      "outputs": [
        {
          "name": "stdout",
          "output_type": "stream",
          "text": [
            "+----------------------+--------------------+\n",
            "|        metric        |       value        |\n",
            "+----------------------+--------------------+\n",
            "|       accuracy       | 0.6261682242990654 |\n",
            "| exact_match_accuracy | 0.6261682510375977 |\n",
            "|   overlap_accuracy   | 0.644859790802002  |\n",
            "|       macro_f1       | 0.4078508319753456 |\n",
            "|       micro_f1       | 0.7129151291512915 |\n",
            "+----------------------+--------------------+\n"
          ]
        }
      ],
      "source": [
        "pretty_table(metrics_polarity)"
      ]
    },
    {
      "cell_type": "code",
      "execution_count": null,
      "metadata": {
        "id": "MEcfFi_1BehU"
      },
      "outputs": [],
      "source": [
        "plot_history(history_polarity, 'lstm_polarity_plot.png')"
      ]
    },
    {
      "cell_type": "markdown",
      "metadata": {
        "id": "ysvhaluRsEGQ"
      },
      "source": [
        "## Joint classification"
      ]
    },
    {
      "cell_type": "code",
      "execution_count": null,
      "metadata": {
        "id": "Dm4Z4PqSsFEz"
      },
      "outputs": [],
      "source": [
        "joint_labels = joint_idx_to_text.values()\n",
        "\n",
        "x_train_joint = get_features(train_df['text'])\n",
        "x_test_joint = get_features(test_df['text'])\n",
        "\n",
        "y_train_joint = np.array(train_df['joint_labels'].tolist())\n",
        "y_test_joint = np.array(test_df['joint_labels'].tolist())"
      ]
    },
    {
      "cell_type": "code",
      "execution_count": null,
      "metadata": {
        "colab": {
          "base_uri": "https://localhost:8080/"
        },
        "id": "gS-M0jdgulFK",
        "outputId": "5b26cb8f-569d-4c2a-8642-8a72d9903f53"
      },
      "outputs": [
        {
          "data": {
            "text/plain": [
              "dict_values(['ambience#negative', 'ambience#neutral', 'ambience#positive', 'food#negative', 'food#neutral', 'food#positive', 'other#negative', 'other#neutral', 'other#positive', 'price#negative', 'price#neutral', 'price#positive', 'service#negative', 'service#neutral', 'service#positive'])"
            ]
          },
          "execution_count": 30,
          "metadata": {},
          "output_type": "execute_result"
        }
      ],
      "source": [
        "joint_labels"
      ]
    },
    {
      "cell_type": "code",
      "execution_count": null,
      "metadata": {
        "colab": {
          "base_uri": "https://localhost:8080/"
        },
        "id": "xGUoLqHQsFDi",
        "outputId": "fd55ff0e-fff6-4be5-d75b-55095b81be5f"
      },
      "outputs": [
        {
          "name": "stdout",
          "output_type": "stream",
          "text": [
            "Model: \"sequential_2\"\n",
            "_________________________________________________________________\n",
            " Layer (type)                Output Shape              Param #   \n",
            "=================================================================\n",
            " embedding_2 (Embedding)     (None, 180, 20)           100000    \n",
            "                                                                 \n",
            " dropout_2 (Dropout)         (None, 180, 20)           0         \n",
            "                                                                 \n",
            " lstm_2 (LSTM)               (None, 180, 300)          385200    \n",
            "                                                                 \n",
            " global_max_pooling1d_2 (Gl  (None, 300)               0         \n",
            " obalMaxPooling1D)                                               \n",
            "                                                                 \n",
            " dense_2 (Dense)             (None, 15)                4515      \n",
            "                                                                 \n",
            " activation_2 (Activation)   (None, 15)                0         \n",
            "                                                                 \n",
            "=================================================================\n",
            "Total params: 489715 (1.87 MB)\n",
            "Trainable params: 489715 (1.87 MB)\n",
            "Non-trainable params: 0 (0.00 Byte)\n",
            "_________________________________________________________________\n"
          ]
        }
      ],
      "source": [
        "num_classes  = len(joint_labels)\n",
        "\n",
        "callbacks = [\n",
        "            ReduceLROnPlateau(),\n",
        "            EarlyStopping(patience=4),\n",
        "            ModelCheckpoint(filepath='joint_model.model', save_best_only=True)\n",
        "        ]\n",
        "\n",
        "joint_model = LSTMmodel(num_classes)"
      ]
    },
    {
      "cell_type": "code",
      "execution_count": null,
      "metadata": {
        "colab": {
          "base_uri": "https://localhost:8080/"
        },
        "id": "gu7qy7kesFB-",
        "outputId": "8e02acdf-fb75-41e9-9b68-34864ac654a7"
      },
      "outputs": [
        {
          "name": "stdout",
          "output_type": "stream",
          "text": [
            "Epoch 1/20\n",
            "81/81 [==============================] - 15s 154ms/step - loss: 0.2871 - categorical_accuracy: 0.2462 - val_loss: 0.2476 - val_categorical_accuracy: 0.2727 - lr: 0.0010\n",
            "Epoch 2/20\n",
            "81/81 [==============================] - 4s 45ms/step - loss: 0.2484 - categorical_accuracy: 0.2641 - val_loss: 0.2487 - val_categorical_accuracy: 0.2727 - lr: 0.0010\n",
            "Epoch 3/20\n",
            "81/81 [==============================] - 2s 28ms/step - loss: 0.2477 - categorical_accuracy: 0.2676 - val_loss: 0.2482 - val_categorical_accuracy: 0.2727 - lr: 0.0010\n",
            "Epoch 4/20\n",
            "81/81 [==============================] - 6s 75ms/step - loss: 0.2475 - categorical_accuracy: 0.2707 - val_loss: 0.2463 - val_categorical_accuracy: 0.2727 - lr: 0.0010\n",
            "Epoch 5/20\n",
            "81/81 [==============================] - 5s 61ms/step - loss: 0.2435 - categorical_accuracy: 0.2922 - val_loss: 0.2405 - val_categorical_accuracy: 0.2762 - lr: 0.0010\n",
            "Epoch 6/20\n",
            "81/81 [==============================] - 6s 70ms/step - loss: 0.2355 - categorical_accuracy: 0.3350 - val_loss: 0.2340 - val_categorical_accuracy: 0.3497 - lr: 0.0010\n",
            "Epoch 7/20\n",
            "81/81 [==============================] - 5s 66ms/step - loss: 0.2251 - categorical_accuracy: 0.4098 - val_loss: 0.2278 - val_categorical_accuracy: 0.3462 - lr: 0.0010\n",
            "Epoch 8/20\n",
            "81/81 [==============================] - 6s 69ms/step - loss: 0.2135 - categorical_accuracy: 0.4262 - val_loss: 0.2207 - val_categorical_accuracy: 0.3601 - lr: 0.0010\n",
            "Epoch 9/20\n",
            "81/81 [==============================] - 6s 72ms/step - loss: 0.2006 - categorical_accuracy: 0.4425 - val_loss: 0.2186 - val_categorical_accuracy: 0.3776 - lr: 0.0010\n",
            "Epoch 10/20\n",
            "81/81 [==============================] - 5s 57ms/step - loss: 0.1895 - categorical_accuracy: 0.4593 - val_loss: 0.2088 - val_categorical_accuracy: 0.4021 - lr: 0.0010\n",
            "Epoch 11/20\n",
            "81/81 [==============================] - 5s 59ms/step - loss: 0.1789 - categorical_accuracy: 0.4815 - val_loss: 0.2082 - val_categorical_accuracy: 0.3881 - lr: 0.0010\n",
            "Epoch 12/20\n",
            "81/81 [==============================] - 7s 87ms/step - loss: 0.1692 - categorical_accuracy: 0.5236 - val_loss: 0.2010 - val_categorical_accuracy: 0.4196 - lr: 0.0010\n",
            "Epoch 13/20\n",
            "81/81 [==============================] - 5s 59ms/step - loss: 0.1598 - categorical_accuracy: 0.5758 - val_loss: 0.1997 - val_categorical_accuracy: 0.3951 - lr: 0.0010\n",
            "Epoch 14/20\n",
            "81/81 [==============================] - 1s 18ms/step - loss: 0.1505 - categorical_accuracy: 0.6023 - val_loss: 0.2000 - val_categorical_accuracy: 0.4126 - lr: 0.0010\n",
            "Epoch 15/20\n",
            "81/81 [==============================] - 5s 66ms/step - loss: 0.1381 - categorical_accuracy: 0.6502 - val_loss: 0.1991 - val_categorical_accuracy: 0.4231 - lr: 0.0010\n",
            "Epoch 16/20\n",
            "81/81 [==============================] - 2s 20ms/step - loss: 0.1280 - categorical_accuracy: 0.6782 - val_loss: 0.2007 - val_categorical_accuracy: 0.4091 - lr: 0.0010\n",
            "Epoch 17/20\n",
            "81/81 [==============================] - 1s 17ms/step - loss: 0.1200 - categorical_accuracy: 0.6829 - val_loss: 0.2079 - val_categorical_accuracy: 0.4336 - lr: 0.0010\n",
            "Epoch 18/20\n",
            "81/81 [==============================] - 1s 17ms/step - loss: 0.1116 - categorical_accuracy: 0.7148 - val_loss: 0.2101 - val_categorical_accuracy: 0.4371 - lr: 0.0010\n",
            "Epoch 19/20\n",
            "81/81 [==============================] - 1s 18ms/step - loss: 0.1051 - categorical_accuracy: 0.7300 - val_loss: 0.2094 - val_categorical_accuracy: 0.4406 - lr: 0.0010\n"
          ]
        }
      ],
      "source": [
        "history_joint = joint_model.model.fit(x_train_joint, y_train_joint,\n",
        "                    epochs=20,\n",
        "                    batch_size=32,\n",
        "                    validation_split=0.1,\n",
        "                    callbacks=callbacks)"
      ]
    },
    {
      "cell_type": "code",
      "execution_count": null,
      "metadata": {
        "id": "5qr47MRlsE5s"
      },
      "outputs": [],
      "source": [
        "lstm_model_joint = keras.models.load_model('joint_model.model')"
      ]
    },
    {
      "cell_type": "code",
      "execution_count": null,
      "metadata": {
        "colab": {
          "base_uri": "https://localhost:8080/"
        },
        "id": "30NayaDfwB6G",
        "outputId": "cde85d7a-14ef-49b3-f734-072c7d52f59d"
      },
      "outputs": [
        {
          "name": "stdout",
          "output_type": "stream",
          "text": [
            "24/24 [==============================] - 1s 11ms/step - loss: 0.1910 - categorical_accuracy: 0.4980\n"
          ]
        },
        {
          "data": {
            "text/plain": [
              "[0.1909979283809662, 0.49799734354019165]"
            ]
          },
          "execution_count": 34,
          "metadata": {},
          "output_type": "execute_result"
        }
      ],
      "source": [
        "lstm_model_joint.evaluate(x_test_joint, y_test_joint)"
      ]
    },
    {
      "cell_type": "code",
      "execution_count": null,
      "metadata": {
        "colab": {
          "base_uri": "https://localhost:8080/"
        },
        "id": "lFMX0JhBsE2g",
        "outputId": "4bdbc680-e124-410f-d8e3-ee166def16ef"
      },
      "outputs": [
        {
          "name": "stdout",
          "output_type": "stream",
          "text": [
            "24/24 [==============================] - 1s 9ms/step\n"
          ]
        }
      ],
      "source": [
        "predict_joint = lstm_model_joint.predict(x_test_joint)\n",
        "threshold = 0.5\n",
        "\n",
        "# Convert to binary format\n",
        "predict_joint = (predict_joint > threshold).astype(int)"
      ]
    },
    {
      "cell_type": "code",
      "execution_count": null,
      "metadata": {
        "id": "16bacmS-sEz2"
      },
      "outputs": [],
      "source": [
        "metrics_joint = model_metrics(predict_joint, y_test_joint)"
      ]
    },
    {
      "cell_type": "code",
      "execution_count": null,
      "metadata": {
        "colab": {
          "base_uri": "https://localhost:8080/"
        },
        "id": "l4GWhMHlsEb2",
        "outputId": "f121bf82-e745-457d-c37d-48a5dcb39412"
      },
      "outputs": [
        {
          "name": "stdout",
          "output_type": "stream",
          "text": [
            "+----------------------+---------------------+\n",
            "|        metric        |        value        |\n",
            "+----------------------+---------------------+\n",
            "|       accuracy       |  0.3164218958611482 |\n",
            "| exact_match_accuracy | 0.31642189621925354 |\n",
            "|   overlap_accuracy   |  0.4419225752353668 |\n",
            "|       macro_f1       | 0.17767885291063154 |\n",
            "|       micro_f1       |  0.504225352112676  |\n",
            "+----------------------+---------------------+\n"
          ]
        }
      ],
      "source": [
        "pretty_table(metrics_joint)"
      ]
    },
    {
      "cell_type": "markdown",
      "metadata": {},
      "source": []
    },
    {
      "cell_type": "code",
      "execution_count": null,
      "metadata": {
        "id": "izaotPv2_qFu"
      },
      "outputs": [],
      "source": [
        "plot_history(history_joint, 'lstm_joint_plot.png')"
      ]
    },
    {
      "cell_type": "code",
      "execution_count": null,
      "metadata": {
        "id": "rRRWeR07_etl"
      },
      "outputs": [],
      "source": []
    }
  ],
  "metadata": {
    "accelerator": "GPU",
    "colab": {
      "provenance": []
    },
    "kernelspec": {
      "display_name": "Python 3",
      "name": "python3"
    },
    "language_info": {
      "name": "python"
    }
  },
  "nbformat": 4,
  "nbformat_minor": 0
}
