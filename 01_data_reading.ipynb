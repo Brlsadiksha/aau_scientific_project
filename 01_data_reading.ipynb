{
 "cells": [
  {
   "cell_type": "code",
   "execution_count": 1,
   "metadata": {},
   "outputs": [],
   "source": [
    "import xmltodict\n",
    "import json\n",
    "import data_functions"
   ]
  },
  {
   "cell_type": "code",
   "execution_count": 2,
   "metadata": {},
   "outputs": [],
   "source": [
    "with open('semeval14/Restaurants_Test_Gold.xml') as fd:\n",
    "    test_doc = xmltodict.parse(fd.read())\n",
    "\n",
    "\n",
    "with open('semeval14/Restaurants_Train_v2.xml') as fd:\n",
    "    train_doc = xmltodict.parse(fd.read())"
   ]
  },
  {
   "cell_type": "code",
   "execution_count": 3,
   "metadata": {},
   "outputs": [],
   "source": [
    "def convert_dict(input_dict):\n",
    "    new_dict = {}\n",
    "\n",
    "    # Add id and text from the original dictionary\n",
    "    new_dict['id'] = input_dict['@id']\n",
    "    new_dict['text'] = input_dict['text']\n",
    "\n",
    "    # Ignore Aspect Terms\n",
    "    # Add Aspect category\n",
    "\n",
    "    # Aspect category is inside aspectcategories key but might not be present\n",
    "    aspects = input_dict.get('aspectCategories', {}).get('aspectCategory', [])\n",
    "\n",
    "    #aspects is a single dictionary if its one aspect, list of dictionary if multiple\n",
    "\n",
    "    new_dict['aspects'] = []\n",
    "\n",
    "    # If aspectTerms is a single dictionary, convert it to a list of one dictionary\n",
    "    if not isinstance(aspects, list):\n",
    "        aspects = [aspects]\n",
    "\n",
    "    for aspect in aspects:\n",
    "        new_aspect = {}\n",
    "        new_aspect['aspect'] = aspect['@category']\n",
    "        new_aspect['polarity'] = aspect['@polarity']\n",
    "        new_dict['aspects'].append(new_aspect)\n",
    "\n",
    "    # Return the new dictionary\n",
    "    return new_dict"
   ]
  },
  {
   "cell_type": "code",
   "execution_count": 4,
   "metadata": {},
   "outputs": [],
   "source": [
    "train_data = [convert_dict(x) for x in train_doc[\"sentences\"][\"sentence\"]]\n",
    "test_data = [convert_dict(x) for x in test_doc[\"sentences\"][\"sentence\"]]"
   ]
  },
  {
   "cell_type": "code",
   "execution_count": 5,
   "metadata": {},
   "outputs": [
    {
     "data": {
      "text/plain": [
       "{'id': '3121',\n",
       " 'text': 'But the staff was so horrible to us.',\n",
       " 'aspects': [{'aspect': 'service', 'polarity': 'negative'}]}"
      ]
     },
     "execution_count": 5,
     "metadata": {},
     "output_type": "execute_result"
    }
   ],
   "source": [
    "train_data[0]"
   ]
  },
  {
   "cell_type": "code",
   "execution_count": 6,
   "metadata": {},
   "outputs": [
    {
     "data": {
      "text/plain": [
       "3041"
      ]
     },
     "execution_count": 6,
     "metadata": {},
     "output_type": "execute_result"
    }
   ],
   "source": [
    "len(train_data)"
   ]
  },
  {
   "cell_type": "code",
   "execution_count": 7,
   "metadata": {},
   "outputs": [
    {
     "data": {
      "text/plain": [
       "800"
      ]
     },
     "execution_count": 7,
     "metadata": {},
     "output_type": "execute_result"
    }
   ],
   "source": [
    "len(test_data)"
   ]
  },
  {
   "cell_type": "code",
   "execution_count": 8,
   "metadata": {},
   "outputs": [
    {
     "name": "stdout",
     "output_type": "stream",
     "text": [
      "Data saved to  data/restaurant_test.jsonl\n",
      "Data saved to  data/restaurant_train.jsonl\n"
     ]
    }
   ],
   "source": [
    "# Save data to a JSON Lines (JSONL) file\n",
    "\n",
    "data_functions.save_jsonl(test_data, 'data/restaurant_test.jsonl')\n",
    "data_functions.save_jsonl(train_data, 'data/restaurant_train.jsonl')"
   ]
  },
  {
   "cell_type": "code",
   "execution_count": null,
   "metadata": {},
   "outputs": [],
   "source": []
  }
 ],
 "metadata": {
  "kernelspec": {
   "display_name": "Python 3",
   "language": "python",
   "name": "python3"
  },
  "language_info": {
   "codemirror_mode": {
    "name": "ipython",
    "version": 3
   },
   "file_extension": ".py",
   "mimetype": "text/x-python",
   "name": "python",
   "nbconvert_exporter": "python",
   "pygments_lexer": "ipython3",
   "version": "3.12.0"
  }
 },
 "nbformat": 4,
 "nbformat_minor": 2
}
