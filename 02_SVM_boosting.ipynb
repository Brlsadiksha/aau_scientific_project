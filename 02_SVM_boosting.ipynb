{
  "cells": [
    {
      "cell_type": "code",
      "execution_count": null,
      "metadata": {
        "id": "2zWUQAqYrled"
      },
      "outputs": [],
      "source": [
        "import joblib\n",
        "import pandas as pd\n",
        "import torch\n",
        "\n",
        "from sklearn.preprocessing import MultiLabelBinarizer\n",
        "from sklearn.feature_extraction.text import TfidfVectorizer\n",
        "from prettytable import PrettyTable\n",
        "\n",
        "\n",
        "from sklearn.svm import LinearSVC\n",
        "from sklearn.metrics import accuracy_score, precision_score, recall_score, f1_score\n",
        "from sklearn.ensemble import GradientBoostingClassifier\n",
        "\n",
        "from sklearn.multiclass import OneVsRestClassifier\n",
        "from torcheval.metrics import MultilabelAccuracy\n"
      ]
    },
    {
      "cell_type": "markdown",
      "metadata": {
        "id": "jFQIaIWIGPqP"
      },
      "source": [
        "## Loading data from before"
      ]
    },
    {
      "cell_type": "code",
      "execution_count": null,
      "metadata": {
        "id": "_twNEZIgIhuf"
      },
      "outputs": [],
      "source": [
        "train_df = joblib.load('data/train_df.joblib')\n",
        "test_df = joblib.load('data/test_df.joblib')"
      ]
    },
    {
      "cell_type": "code",
      "execution_count": null,
      "metadata": {
        "id": "dN6R_Q0UGRt3"
      },
      "outputs": [],
      "source": [
        "vectorizer = joblib.load('data/vectorizer.joblib')\n",
        "vectorised_train_text = joblib.load('data/vectorised_train_text.joblib')\n",
        "vectorised_test_text =  joblib.load('data/vectorised_test_text.joblib')"
      ]
    },
    {
      "cell_type": "code",
      "execution_count": null,
      "metadata": {
        "id": "v4mp6O0LTbaI"
      },
      "outputs": [],
      "source": [
        "def model_metrics(test_labels, predictions):\n",
        "    accuracy = accuracy_score(test_labels, predictions)\n",
        "\n",
        "    exact_accuracy = MultilabelAccuracy(criteria='exact_match')\n",
        "    exact_accuracy.update(target=torch.Tensor(test_labels), input=torch.Tensor(predictions))\n",
        "\n",
        "    overlap_accuracy = MultilabelAccuracy(criteria='overlap')\n",
        "    overlap_accuracy.update(target=torch.Tensor(test_labels), input=torch.Tensor(predictions))\n",
        "\n",
        "    macro_f1 = f1_score(test_labels, predictions, average='macro')\n",
        "    micro_f1 = f1_score(test_labels, predictions, average='micro')\n",
        "\n",
        "    metrics = {}\n",
        "    metrics = {\n",
        "        'accuracy' : accuracy,\n",
        "        'exact_match_accuracy': exact_accuracy.compute().detach().item(),\n",
        "        'overlap_accuracy': overlap_accuracy.compute().detach().item(),\n",
        "        'macro_f1': macro_f1,\n",
        "        'micro_f1': micro_f1\n",
        "    }\n",
        "\n",
        "    return metrics"
      ]
    },
    {
      "cell_type": "code",
      "execution_count": null,
      "metadata": {
        "id": "Bq1_jdHjUxO0"
      },
      "outputs": [],
      "source": [
        "def pretty_table(dict):\n",
        "    table = PrettyTable()\n",
        "    table.field_names = ['metric', 'value']\n",
        "    for k,v in dict.items():\n",
        "        table.add_row([k, v])\n",
        "    print(table)"
      ]
    },
    {
      "cell_type": "markdown",
      "metadata": {
        "id": "3kvOuiGZJiPu"
      },
      "source": [
        "# SVM model\n",
        "**SVM classifier donot support multilabel natively, so we have to use one vs rest or one vs one**\n",
        "- https://machinelearningmastery.com/one-vs-rest-and-one-vs-one-for-multi-class-classification/"
      ]
    },
    {
      "cell_type": "markdown",
      "metadata": {
        "id": "C-liOXZOzr20"
      },
      "source": [
        "### Category classification"
      ]
    },
    {
      "cell_type": "code",
      "execution_count": null,
      "metadata": {
        "colab": {
          "base_uri": "https://localhost:8080/"
        },
        "id": "vUXJwx71JRMm",
        "outputId": "039c26ea-c9e9-4e07-a135-5bcef775a167"
      },
      "outputs": [
        {
          "name": "stdout",
          "output_type": "stream",
          "text": [
            "+----------------------+--------------------+\n",
            "|        metric        |       value        |\n",
            "+----------------------+--------------------+\n",
            "|       accuracy       | 0.684913217623498  |\n",
            "| exact_match_accuracy | 0.6849132180213928 |\n",
            "|   overlap_accuracy   | 0.8264352679252625 |\n",
            "|       macro_f1       | 0.7949338277643552 |\n",
            "|       micro_f1       | 0.8189066059225513 |\n",
            "+----------------------+--------------------+\n"
          ]
        }
      ],
      "source": [
        "svmClassifier_category = OneVsRestClassifier(LinearSVC(), n_jobs=-1)\n",
        "svmClassifier_category.fit(vectorised_train_text, train_df['category_labels'].to_list())\n",
        "\n",
        "svmPreds_category = svmClassifier_category.predict(vectorised_test_text)\n",
        "svm_category_metrics = model_metrics(test_df['category_labels'].to_list(), svmPreds_category)\n",
        "\n",
        "pretty_table(svm_category_metrics)"
      ]
    },
    {
      "cell_type": "markdown",
      "metadata": {
        "id": "5Xc7cjkwzw7R"
      },
      "source": [
        "## Sentiment classification"
      ]
    },
    {
      "cell_type": "code",
      "execution_count": null,
      "metadata": {
        "colab": {
          "base_uri": "https://localhost:8080/"
        },
        "id": "u1PvCjPSuhBw",
        "outputId": "4bee8739-2c1f-4871-8e41-5c6aa9d3baba"
      },
      "outputs": [
        {
          "name": "stdout",
          "output_type": "stream",
          "text": [
            "+----------------------+--------------------+\n",
            "|        metric        |       value        |\n",
            "+----------------------+--------------------+\n",
            "|       accuracy       | 0.6862483311081442 |\n",
            "| exact_match_accuracy | 0.6862483024597168 |\n",
            "|   overlap_accuracy   | 0.7383177280426025 |\n",
            "|       macro_f1       | 0.6153727514585684 |\n",
            "|       micro_f1       | 0.7510148849797024 |\n",
            "+----------------------+--------------------+\n"
          ]
        }
      ],
      "source": [
        "svmClassifier_polarity = OneVsRestClassifier(LinearSVC(), n_jobs=-1)\n",
        "svmClassifier_polarity.fit(vectorised_train_text, train_df['polarity_labels'].to_list())\n",
        "\n",
        "svmPreds_polarity = svmClassifier_polarity.predict(vectorised_test_text)\n",
        "svm_polarity_metrics = model_metrics(test_df['polarity_labels'].to_list(), svmPreds_polarity)\n",
        "\n",
        "pretty_table(svm_polarity_metrics)"
      ]
    },
    {
      "cell_type": "markdown",
      "metadata": {
        "id": "yaTkAQge0YbZ"
      },
      "source": [
        "## Combined classification"
      ]
    },
    {
      "cell_type": "code",
      "execution_count": null,
      "metadata": {
        "colab": {
          "base_uri": "https://localhost:8080/"
        },
        "id": "-ETsKnhg0FEf",
        "outputId": "85de399a-df2c-422a-98bc-0fa6a9235620"
      },
      "outputs": [
        {
          "name": "stdout",
          "output_type": "stream",
          "text": [
            "+----------------------+--------------------+\n",
            "|        metric        |       value        |\n",
            "+----------------------+--------------------+\n",
            "|       accuracy       | 0.4205607476635514 |\n",
            "| exact_match_accuracy | 0.420560747385025  |\n",
            "|   overlap_accuracy   | 0.5447263121604919 |\n",
            "|       macro_f1       | 0.3609738235138345 |\n",
            "|       micro_f1       | 0.6040868454661558 |\n",
            "+----------------------+--------------------+\n"
          ]
        }
      ],
      "source": [
        "svmClassifier_joint = OneVsRestClassifier(LinearSVC(), n_jobs=-1)\n",
        "svmClassifier_joint.fit(vectorised_train_text, train_df['joint_labels'].to_list())\n",
        "\n",
        "svmPreds_joint = svmClassifier_joint.predict(vectorised_test_text)\n",
        "svm_joint_metrics = model_metrics(test_df['joint_labels'].to_list(), svmPreds_joint)\n",
        "\n",
        "pretty_table(svm_joint_metrics)"
      ]
    },
    {
      "cell_type": "markdown",
      "metadata": {
        "id": "614goBC61F1U"
      },
      "source": [
        "# Gradient Boosting"
      ]
    },
    {
      "cell_type": "markdown",
      "metadata": {
        "id": "0bwB-bxx1QGY"
      },
      "source": [
        "## Category classification"
      ]
    },
    {
      "cell_type": "code",
      "execution_count": null,
      "metadata": {
        "colab": {
          "base_uri": "https://localhost:8080/"
        },
        "id": "5JiI2yEX0jNu",
        "outputId": "e316b90b-249b-458f-f850-d4b81ff155c6"
      },
      "outputs": [
        {
          "name": "stdout",
          "output_type": "stream",
          "text": [
            "+----------------------+--------------------+\n",
            "|        metric        |       value        |\n",
            "+----------------------+--------------------+\n",
            "|       accuracy       | 0.514018691588785  |\n",
            "| exact_match_accuracy | 0.514018714427948  |\n",
            "|   overlap_accuracy   | 0.643524706363678  |\n",
            "|       macro_f1       | 0.7425315862066151 |\n",
            "|       micro_f1       | 0.733374766935985  |\n",
            "+----------------------+--------------------+\n"
          ]
        }
      ],
      "source": [
        "boostingClassifier_category = OneVsRestClassifier(GradientBoostingClassifier())\n",
        "boostingClassifier_category.fit(vectorised_train_text, train_df['category_labels'].to_list())\n",
        "\n",
        "boostingPreds_category = boostingClassifier_category.predict(vectorised_test_text)\n",
        "boosting_category_metrics = model_metrics(test_df['category_labels'].to_list(), boostingPreds_category)\n",
        "\n",
        "pretty_table(boosting_category_metrics)"
      ]
    },
    {
      "cell_type": "markdown",
      "metadata": {
        "id": "Gc4BOwcj1TAy"
      },
      "source": [
        "## Sentiment classification"
      ]
    },
    {
      "cell_type": "code",
      "execution_count": null,
      "metadata": {
        "colab": {
          "base_uri": "https://localhost:8080/"
        },
        "id": "-0p0t91a1Dnr",
        "outputId": "74283e21-8694-4383-deb1-8ef716388238"
      },
      "outputs": [
        {
          "name": "stdout",
          "output_type": "stream",
          "text": [
            "+----------------------+--------------------+\n",
            "|        metric        |       value        |\n",
            "+----------------------+--------------------+\n",
            "|       accuracy       | 0.650200267022697  |\n",
            "| exact_match_accuracy | 0.6502002477645874 |\n",
            "|   overlap_accuracy   | 0.6969292163848877 |\n",
            "|       macro_f1       | 0.4345677354373006 |\n",
            "|       micro_f1       | 0.7075471698113208 |\n",
            "+----------------------+--------------------+\n"
          ]
        }
      ],
      "source": [
        "boostingClassifier_polarity = OneVsRestClassifier(GradientBoostingClassifier())\n",
        "boostingClassifier_polarity.fit(vectorised_train_text, train_df['polarity_labels'].to_list())\n",
        "\n",
        "boostingPreds_polarity = boostingClassifier_polarity.predict(vectorised_test_text)\n",
        "boosting_polarity_metrics = model_metrics(test_df['polarity_labels'].to_list(), boostingPreds_polarity)\n",
        "\n",
        "pretty_table(boosting_polarity_metrics)"
      ]
    },
    {
      "cell_type": "markdown",
      "metadata": {
        "id": "LEgEPfIc2NJP"
      },
      "source": [
        "## Combined classification"
      ]
    },
    {
      "cell_type": "code",
      "execution_count": null,
      "metadata": {
        "colab": {
          "base_uri": "https://localhost:8080/"
        },
        "id": "CXdG4NHs2PAV",
        "outputId": "c15bfb7d-95f7-40ed-d556-ce8cdd860a9f"
      },
      "outputs": [
        {
          "name": "stdout",
          "output_type": "stream",
          "text": [
            "+----------------------+---------------------+\n",
            "|        metric        |        value        |\n",
            "+----------------------+---------------------+\n",
            "|       accuracy       | 0.27102803738317754 |\n",
            "| exact_match_accuracy |  0.2710280418395996 |\n",
            "|   overlap_accuracy   |  0.3898531496524811 |\n",
            "|       macro_f1       | 0.28963520863345926 |\n",
            "|       micro_f1       |  0.502415458937198  |\n",
            "+----------------------+---------------------+\n"
          ]
        }
      ],
      "source": [
        "boostingClassifier_joint = OneVsRestClassifier(GradientBoostingClassifier())\n",
        "boostingClassifier_joint.fit(vectorised_train_text, train_df['joint_labels'].to_list())\n",
        "\n",
        "boostingPreds_joint = boostingClassifier_joint.predict(vectorised_test_text)\n",
        "boosting_joint_metrics = model_metrics(test_df['joint_labels'].to_list(), boostingPreds_joint)\n",
        "\n",
        "pretty_table(boosting_joint_metrics)"
      ]
    },
    {
      "cell_type": "code",
      "execution_count": null,
      "metadata": {
        "id": "if8sgNc33Jzs"
      },
      "outputs": [],
      "source": []
    }
  ],
  "metadata": {
    "colab": {
      "provenance": []
    },
    "kernelspec": {
      "display_name": "Python 3",
      "name": "python3"
    },
    "language_info": {
      "name": "python"
    }
  },
  "nbformat": 4,
  "nbformat_minor": 0
}
