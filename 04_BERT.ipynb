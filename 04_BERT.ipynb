{
  "cells": [
    {
      "cell_type": "code",
      "execution_count": null,
      "metadata": {
        "id": "UXnMu8EtUSyO"
      },
      "outputs": [],
      "source": [
        "from transformers import BertTokenizer\n",
        "from transformers import AutoModelForSequenceClassification\n",
        "from torch.utils.data import Dataset, DataLoader\n",
        "import joblib\n",
        "from torch.optim import AdamW\n",
        "from sklearn.metrics import f1_score, roc_auc_score, accuracy_score\n",
        "from transformers import EvalPrediction\n",
        "from transformers import TrainingArguments, Trainer\n",
        "from sklearn.metrics import accuracy_score, precision_score, recall_score, f1_score\n",
        "from torcheval.metrics import MultilabelAccuracy\n",
        "import torch\n",
        "from prettytable import PrettyTable\n",
        "import numpy as np\n",
        "\n",
        "import seaborn as sns"
      ]
    },
    {
      "cell_type": "code",
      "execution_count": null,
      "metadata": {
        "id": "4vhsJGLOUmEP"
      },
      "outputs": [],
      "source": [
        "train_df = joblib.load('data/train_df.joblib')\n",
        "test_df = joblib.load('data/test_df.joblib')"
      ]
    },
    {
      "cell_type": "code",
      "execution_count": null,
      "metadata": {
        "id": "wZGXkFvgUvZQ"
      },
      "outputs": [],
      "source": [
        "category_idx_to_text = {0: 'ambience', 1: 'food', 2: 'other', 3: 'price', 4: 'service'}\n",
        "polarity_idx_to_text = {0: 'negative', 1: 'neutral', 2: 'positive'}\n",
        "joint_idx_to_text = {0: 'ambience#negative', 1: 'ambience#neutral', 2: 'ambience#positive', 3: 'food#negative', 4: 'food#neutral', 5: 'food#positive', 6: 'other#negative', 7: 'other#neutral', 8: 'other#positive', 9: 'price#negative', 10: 'price#neutral', 11: 'price#positive', 12: 'service#negative', 13: 'service#neutral', 14: 'service#positive'}"
      ]
    },
    {
      "cell_type": "code",
      "execution_count": null,
      "metadata": {
        "colab": {
          "base_uri": "https://localhost:8080/",
          "height": 206
        },
        "id": "QWsNIXoyeEHf",
        "outputId": "89b1eea2-91c1-4226-d0a1-e08d5e2f90d5"
      },
      "outputs": [
        {
          "data": {
            "text/html": [
              "\n",
              "  <div id=\"df-3cc9cc03-344a-48d4-a72c-ac55cb7c7290\" class=\"colab-df-container\">\n",
              "    <div>\n",
              "<style scoped>\n",
              "    .dataframe tbody tr th:only-of-type {\n",
              "        vertical-align: middle;\n",
              "    }\n",
              "\n",
              "    .dataframe tbody tr th {\n",
              "        vertical-align: top;\n",
              "    }\n",
              "\n",
              "    .dataframe thead th {\n",
              "        text-align: right;\n",
              "    }\n",
              "</style>\n",
              "<table border=\"1\" class=\"dataframe\">\n",
              "  <thead>\n",
              "    <tr style=\"text-align: right;\">\n",
              "      <th></th>\n",
              "      <th>text</th>\n",
              "      <th>category</th>\n",
              "      <th>polarity</th>\n",
              "      <th>joint</th>\n",
              "      <th>category_labels</th>\n",
              "      <th>polarity_labels</th>\n",
              "      <th>joint_labels</th>\n",
              "    </tr>\n",
              "  </thead>\n",
              "  <tbody>\n",
              "    <tr>\n",
              "      <th>0</th>\n",
              "      <td>staff horrible us</td>\n",
              "      <td>[service]</td>\n",
              "      <td>[negative]</td>\n",
              "      <td>[service#negative]</td>\n",
              "      <td>[0, 0, 0, 0, 1]</td>\n",
              "      <td>[1, 0, 0]</td>\n",
              "      <td>[0, 0, 0, 0, 0, 0, 0, 0, 0, 0, 0, 0, 1, 0, 0]</td>\n",
              "    </tr>\n",
              "    <tr>\n",
              "      <th>1</th>\n",
              "      <td>completely fair redeeming factor food average ...</td>\n",
              "      <td>[food, other]</td>\n",
              "      <td>[positive, negative]</td>\n",
              "      <td>[food#positive, other#negative]</td>\n",
              "      <td>[0, 1, 1, 0, 0]</td>\n",
              "      <td>[1, 0, 1]</td>\n",
              "      <td>[0, 0, 0, 0, 0, 1, 1, 0, 0, 0, 0, 0, 0, 0, 0]</td>\n",
              "    </tr>\n",
              "    <tr>\n",
              "      <th>2</th>\n",
              "      <td>food uniformly exceptional capable kitchen pro...</td>\n",
              "      <td>[food]</td>\n",
              "      <td>[positive]</td>\n",
              "      <td>[food#positive]</td>\n",
              "      <td>[0, 1, 0, 0, 0]</td>\n",
              "      <td>[0, 0, 1]</td>\n",
              "      <td>[0, 0, 0, 0, 0, 1, 0, 0, 0, 0, 0, 0, 0, 0, 0]</td>\n",
              "    </tr>\n",
              "    <tr>\n",
              "      <th>3</th>\n",
              "      <td>gabriela personaly greets recommends eat</td>\n",
              "      <td>[service]</td>\n",
              "      <td>[positive]</td>\n",
              "      <td>[service#positive]</td>\n",
              "      <td>[0, 0, 0, 0, 1]</td>\n",
              "      <td>[0, 0, 1]</td>\n",
              "      <td>[0, 0, 0, 0, 0, 0, 0, 0, 0, 0, 0, 0, 0, 0, 1]</td>\n",
              "    </tr>\n",
              "    <tr>\n",
              "      <th>4</th>\n",
              "      <td>go enjoy say get</td>\n",
              "      <td>[other]</td>\n",
              "      <td>[positive]</td>\n",
              "      <td>[other#positive]</td>\n",
              "      <td>[0, 0, 1, 0, 0]</td>\n",
              "      <td>[0, 0, 1]</td>\n",
              "      <td>[0, 0, 0, 0, 0, 0, 0, 0, 1, 0, 0, 0, 0, 0, 0]</td>\n",
              "    </tr>\n",
              "  </tbody>\n",
              "</table>\n",
              "</div>\n",
              "    <div class=\"colab-df-buttons\">\n",
              "\n",
              "  <div class=\"colab-df-container\">\n",
              "    <button class=\"colab-df-convert\" onclick=\"convertToInteractive('df-3cc9cc03-344a-48d4-a72c-ac55cb7c7290')\"\n",
              "            title=\"Convert this dataframe to an interactive table.\"\n",
              "            style=\"display:none;\">\n",
              "\n",
              "  <svg xmlns=\"http://www.w3.org/2000/svg\" height=\"24px\" viewBox=\"0 -960 960 960\">\n",
              "    <path d=\"M120-120v-720h720v720H120Zm60-500h600v-160H180v160Zm220 220h160v-160H400v160Zm0 220h160v-160H400v160ZM180-400h160v-160H180v160Zm440 0h160v-160H620v160ZM180-180h160v-160H180v160Zm440 0h160v-160H620v160Z\"/>\n",
              "  </svg>\n",
              "    </button>\n",
              "\n",
              "  <style>\n",
              "    .colab-df-container {\n",
              "      display:flex;\n",
              "      gap: 12px;\n",
              "    }\n",
              "\n",
              "    .colab-df-convert {\n",
              "      background-color: #E8F0FE;\n",
              "      border: none;\n",
              "      border-radius: 50%;\n",
              "      cursor: pointer;\n",
              "      display: none;\n",
              "      fill: #1967D2;\n",
              "      height: 32px;\n",
              "      padding: 0 0 0 0;\n",
              "      width: 32px;\n",
              "    }\n",
              "\n",
              "    .colab-df-convert:hover {\n",
              "      background-color: #E2EBFA;\n",
              "      box-shadow: 0px 1px 2px rgba(60, 64, 67, 0.3), 0px 1px 3px 1px rgba(60, 64, 67, 0.15);\n",
              "      fill: #174EA6;\n",
              "    }\n",
              "\n",
              "    .colab-df-buttons div {\n",
              "      margin-bottom: 4px;\n",
              "    }\n",
              "\n",
              "    [theme=dark] .colab-df-convert {\n",
              "      background-color: #3B4455;\n",
              "      fill: #D2E3FC;\n",
              "    }\n",
              "\n",
              "    [theme=dark] .colab-df-convert:hover {\n",
              "      background-color: #434B5C;\n",
              "      box-shadow: 0px 1px 3px 1px rgba(0, 0, 0, 0.15);\n",
              "      filter: drop-shadow(0px 1px 2px rgba(0, 0, 0, 0.3));\n",
              "      fill: #FFFFFF;\n",
              "    }\n",
              "  </style>\n",
              "\n",
              "    <script>\n",
              "      const buttonEl =\n",
              "        document.querySelector('#df-3cc9cc03-344a-48d4-a72c-ac55cb7c7290 button.colab-df-convert');\n",
              "      buttonEl.style.display =\n",
              "        google.colab.kernel.accessAllowed ? 'block' : 'none';\n",
              "\n",
              "      async function convertToInteractive(key) {\n",
              "        const element = document.querySelector('#df-3cc9cc03-344a-48d4-a72c-ac55cb7c7290');\n",
              "        const dataTable =\n",
              "          await google.colab.kernel.invokeFunction('convertToInteractive',\n",
              "                                                    [key], {});\n",
              "        if (!dataTable) return;\n",
              "\n",
              "        const docLinkHtml = 'Like what you see? Visit the ' +\n",
              "          '<a target=\"_blank\" href=https://colab.research.google.com/notebooks/data_table.ipynb>data table notebook</a>'\n",
              "          + ' to learn more about interactive tables.';\n",
              "        element.innerHTML = '';\n",
              "        dataTable['output_type'] = 'display_data';\n",
              "        await google.colab.output.renderOutput(dataTable, element);\n",
              "        const docLink = document.createElement('div');\n",
              "        docLink.innerHTML = docLinkHtml;\n",
              "        element.appendChild(docLink);\n",
              "      }\n",
              "    </script>\n",
              "  </div>\n",
              "\n",
              "\n",
              "<div id=\"df-03e6c815-4978-489e-bc20-40ea466e274a\">\n",
              "  <button class=\"colab-df-quickchart\" onclick=\"quickchart('df-03e6c815-4978-489e-bc20-40ea466e274a')\"\n",
              "            title=\"Suggest charts\"\n",
              "            style=\"display:none;\">\n",
              "\n",
              "<svg xmlns=\"http://www.w3.org/2000/svg\" height=\"24px\"viewBox=\"0 0 24 24\"\n",
              "     width=\"24px\">\n",
              "    <g>\n",
              "        <path d=\"M19 3H5c-1.1 0-2 .9-2 2v14c0 1.1.9 2 2 2h14c1.1 0 2-.9 2-2V5c0-1.1-.9-2-2-2zM9 17H7v-7h2v7zm4 0h-2V7h2v10zm4 0h-2v-4h2v4z\"/>\n",
              "    </g>\n",
              "</svg>\n",
              "  </button>\n",
              "\n",
              "<style>\n",
              "  .colab-df-quickchart {\n",
              "      --bg-color: #E8F0FE;\n",
              "      --fill-color: #1967D2;\n",
              "      --hover-bg-color: #E2EBFA;\n",
              "      --hover-fill-color: #174EA6;\n",
              "      --disabled-fill-color: #AAA;\n",
              "      --disabled-bg-color: #DDD;\n",
              "  }\n",
              "\n",
              "  [theme=dark] .colab-df-quickchart {\n",
              "      --bg-color: #3B4455;\n",
              "      --fill-color: #D2E3FC;\n",
              "      --hover-bg-color: #434B5C;\n",
              "      --hover-fill-color: #FFFFFF;\n",
              "      --disabled-bg-color: #3B4455;\n",
              "      --disabled-fill-color: #666;\n",
              "  }\n",
              "\n",
              "  .colab-df-quickchart {\n",
              "    background-color: var(--bg-color);\n",
              "    border: none;\n",
              "    border-radius: 50%;\n",
              "    cursor: pointer;\n",
              "    display: none;\n",
              "    fill: var(--fill-color);\n",
              "    height: 32px;\n",
              "    padding: 0;\n",
              "    width: 32px;\n",
              "  }\n",
              "\n",
              "  .colab-df-quickchart:hover {\n",
              "    background-color: var(--hover-bg-color);\n",
              "    box-shadow: 0 1px 2px rgba(60, 64, 67, 0.3), 0 1px 3px 1px rgba(60, 64, 67, 0.15);\n",
              "    fill: var(--button-hover-fill-color);\n",
              "  }\n",
              "\n",
              "  .colab-df-quickchart-complete:disabled,\n",
              "  .colab-df-quickchart-complete:disabled:hover {\n",
              "    background-color: var(--disabled-bg-color);\n",
              "    fill: var(--disabled-fill-color);\n",
              "    box-shadow: none;\n",
              "  }\n",
              "\n",
              "  .colab-df-spinner {\n",
              "    border: 2px solid var(--fill-color);\n",
              "    border-color: transparent;\n",
              "    border-bottom-color: var(--fill-color);\n",
              "    animation:\n",
              "      spin 1s steps(1) infinite;\n",
              "  }\n",
              "\n",
              "  @keyframes spin {\n",
              "    0% {\n",
              "      border-color: transparent;\n",
              "      border-bottom-color: var(--fill-color);\n",
              "      border-left-color: var(--fill-color);\n",
              "    }\n",
              "    20% {\n",
              "      border-color: transparent;\n",
              "      border-left-color: var(--fill-color);\n",
              "      border-top-color: var(--fill-color);\n",
              "    }\n",
              "    30% {\n",
              "      border-color: transparent;\n",
              "      border-left-color: var(--fill-color);\n",
              "      border-top-color: var(--fill-color);\n",
              "      border-right-color: var(--fill-color);\n",
              "    }\n",
              "    40% {\n",
              "      border-color: transparent;\n",
              "      border-right-color: var(--fill-color);\n",
              "      border-top-color: var(--fill-color);\n",
              "    }\n",
              "    60% {\n",
              "      border-color: transparent;\n",
              "      border-right-color: var(--fill-color);\n",
              "    }\n",
              "    80% {\n",
              "      border-color: transparent;\n",
              "      border-right-color: var(--fill-color);\n",
              "      border-bottom-color: var(--fill-color);\n",
              "    }\n",
              "    90% {\n",
              "      border-color: transparent;\n",
              "      border-bottom-color: var(--fill-color);\n",
              "    }\n",
              "  }\n",
              "</style>\n",
              "\n",
              "  <script>\n",
              "    async function quickchart(key) {\n",
              "      const quickchartButtonEl =\n",
              "        document.querySelector('#' + key + ' button');\n",
              "      quickchartButtonEl.disabled = true;  // To prevent multiple clicks.\n",
              "      quickchartButtonEl.classList.add('colab-df-spinner');\n",
              "      try {\n",
              "        const charts = await google.colab.kernel.invokeFunction(\n",
              "            'suggestCharts', [key], {});\n",
              "      } catch (error) {\n",
              "        console.error('Error during call to suggestCharts:', error);\n",
              "      }\n",
              "      quickchartButtonEl.classList.remove('colab-df-spinner');\n",
              "      quickchartButtonEl.classList.add('colab-df-quickchart-complete');\n",
              "    }\n",
              "    (() => {\n",
              "      let quickchartButtonEl =\n",
              "        document.querySelector('#df-03e6c815-4978-489e-bc20-40ea466e274a button');\n",
              "      quickchartButtonEl.style.display =\n",
              "        google.colab.kernel.accessAllowed ? 'block' : 'none';\n",
              "    })();\n",
              "  </script>\n",
              "</div>\n",
              "    </div>\n",
              "  </div>\n"
            ],
            "text/plain": [
              "                                                text       category  \\\n",
              "0                                  staff horrible us      [service]   \n",
              "1  completely fair redeeming factor food average ...  [food, other]   \n",
              "2  food uniformly exceptional capable kitchen pro...         [food]   \n",
              "3           gabriela personaly greets recommends eat      [service]   \n",
              "4                                   go enjoy say get        [other]   \n",
              "\n",
              "               polarity                            joint  category_labels  \\\n",
              "0            [negative]               [service#negative]  [0, 0, 0, 0, 1]   \n",
              "1  [positive, negative]  [food#positive, other#negative]  [0, 1, 1, 0, 0]   \n",
              "2            [positive]                  [food#positive]  [0, 1, 0, 0, 0]   \n",
              "3            [positive]               [service#positive]  [0, 0, 0, 0, 1]   \n",
              "4            [positive]                 [other#positive]  [0, 0, 1, 0, 0]   \n",
              "\n",
              "  polarity_labels                                   joint_labels  \n",
              "0       [1, 0, 0]  [0, 0, 0, 0, 0, 0, 0, 0, 0, 0, 0, 0, 1, 0, 0]  \n",
              "1       [1, 0, 1]  [0, 0, 0, 0, 0, 1, 1, 0, 0, 0, 0, 0, 0, 0, 0]  \n",
              "2       [0, 0, 1]  [0, 0, 0, 0, 0, 1, 0, 0, 0, 0, 0, 0, 0, 0, 0]  \n",
              "3       [0, 0, 1]  [0, 0, 0, 0, 0, 0, 0, 0, 0, 0, 0, 0, 0, 0, 1]  \n",
              "4       [0, 0, 1]  [0, 0, 0, 0, 0, 0, 0, 0, 1, 0, 0, 0, 0, 0, 0]  "
            ]
          },
          "execution_count": 5,
          "metadata": {},
          "output_type": "execute_result"
        }
      ],
      "source": [
        "train_df.head()"
      ]
    },
    {
      "cell_type": "code",
      "execution_count": null,
      "metadata": {
        "id": "erUvrp-ldwKQ"
      },
      "outputs": [],
      "source": [
        "train_text = train_df['text'].tolist()\n",
        "test_text = test_df['text'].tolist()"
      ]
    },
    {
      "cell_type": "code",
      "execution_count": null,
      "metadata": {
        "id": "8NJOAtZ8dvx-"
      },
      "outputs": [],
      "source": [
        "tokenizer = BertTokenizer.from_pretrained('bert-base-uncased')"
      ]
    },
    {
      "cell_type": "code",
      "execution_count": null,
      "metadata": {
        "id": "zPZC8SdK4Wae"
      },
      "outputs": [],
      "source": [
        "# Tokenize input data\n",
        "tokenized_train_text = tokenizer(train_text,\n",
        "                                 return_tensors='pt',  # Return PyTorch tensors\n",
        "                                 max_length=180,\n",
        "                                 truncation=True,\n",
        "                                 padding='max_length',\n",
        "                                 )\n",
        "\n",
        "tokenized_test_text = tokenizer(test_text,\n",
        "                                 return_tensors='pt',  # Return PyTorch tensors\n",
        "                                 max_length=180,\n",
        "                                 truncation=True,\n",
        "                                 padding='max_length',\n",
        "                                 )\n"
      ]
    },
    {
      "cell_type": "code",
      "execution_count": null,
      "metadata": {
        "colab": {
          "base_uri": "https://localhost:8080/"
        },
        "id": "GwLpgmW0ehvD",
        "outputId": "b846345f-69a1-4efa-f3c5-46bca5e97984"
      },
      "outputs": [
        {
          "data": {
            "text/plain": [
              "{'input_ids': tensor([[  101,  3095,  9202,  ...,     0,     0,     0],\n",
              "        [  101,  3294,  4189,  ...,     0,     0,     0],\n",
              "        [  101,  2833, 27423,  ...,     0,     0,     0],\n",
              "        ...,\n",
              "        [  101,  3369,  7610,  ...,     0,     0,     0],\n",
              "        [  101,  2795,  8962,  ...,     0,     0,     0],\n",
              "        [  101,  2183,  3054,  ...,     0,     0,     0]]), 'token_type_ids': tensor([[0, 0, 0,  ..., 0, 0, 0],\n",
              "        [0, 0, 0,  ..., 0, 0, 0],\n",
              "        [0, 0, 0,  ..., 0, 0, 0],\n",
              "        ...,\n",
              "        [0, 0, 0,  ..., 0, 0, 0],\n",
              "        [0, 0, 0,  ..., 0, 0, 0],\n",
              "        [0, 0, 0,  ..., 0, 0, 0]]), 'attention_mask': tensor([[1, 1, 1,  ..., 0, 0, 0],\n",
              "        [1, 1, 1,  ..., 0, 0, 0],\n",
              "        [1, 1, 1,  ..., 0, 0, 0],\n",
              "        ...,\n",
              "        [1, 1, 1,  ..., 0, 0, 0],\n",
              "        [1, 1, 1,  ..., 0, 0, 0],\n",
              "        [1, 1, 1,  ..., 0, 0, 0]])}"
            ]
          },
          "execution_count": 9,
          "metadata": {},
          "output_type": "execute_result"
        }
      ],
      "source": [
        "tokenized_train_text"
      ]
    },
    {
      "cell_type": "code",
      "execution_count": null,
      "metadata": {
        "id": "UHwz21yqUIue"
      },
      "outputs": [],
      "source": [
        "class CustomDataset(Dataset):\n",
        "    def __init__(self, tokenized_input, labels):\n",
        "        self.tokenized_input = tokenized_input\n",
        "        self.labels = labels\n",
        "\n",
        "    def __len__(self):\n",
        "        return len(self.tokenized_input['input_ids'])\n",
        "\n",
        "    def __getitem__(self, idx):\n",
        "        return {\n",
        "            'input_ids': self.tokenized_input['input_ids'][idx],\n",
        "            'attention_mask': self.tokenized_input['attention_mask'][idx],\n",
        "            'token_type_ids': self.tokenized_input['token_type_ids'][idx],\n",
        "            'labels': torch.tensor(self.labels[idx]),\n",
        "        }"
      ]
    },
    {
      "cell_type": "code",
      "execution_count": null,
      "metadata": {
        "id": "FpZjjf9IfavV"
      },
      "outputs": [],
      "source": []
    },
    {
      "cell_type": "markdown",
      "metadata": {
        "id": "zlLSBcGhfbab"
      },
      "source": [
        "## Joint classification"
      ]
    },
    {
      "cell_type": "code",
      "execution_count": null,
      "metadata": {
        "id": "auyFjin-faOz"
      },
      "outputs": [],
      "source": [
        "train_joint_labels = train_df['joint_labels'].apply(lambda x: [np.float32(i) for i in x]).tolist()\n",
        "test_joint_labels= test_df['joint_labels'].apply(lambda x: [np.float32(i) for i in x]).tolist()"
      ]
    },
    {
      "cell_type": "code",
      "execution_count": null,
      "metadata": {
        "id": "uJDkgicH6sa8"
      },
      "outputs": [],
      "source": []
    },
    {
      "cell_type": "code",
      "execution_count": null,
      "metadata": {
        "id": "B1FrpcLWexsY"
      },
      "outputs": [],
      "source": [
        "train_dataset = CustomDataset(tokenized_train_text, train_joint_labels)\n",
        "test_dataset = CustomDataset(tokenized_test_text, test_joint_labels)"
      ]
    },
    {
      "cell_type": "code",
      "execution_count": null,
      "metadata": {
        "id": "5VShNYJBUgfC"
      },
      "outputs": [],
      "source": [
        "train_dataloader = DataLoader(train_dataset, batch_size=32, shuffle=True)\n",
        "test_dataloader  = DataLoader(test_dataset, batch_size=32, shuffle=True)"
      ]
    },
    {
      "cell_type": "code",
      "execution_count": null,
      "metadata": {
        "colab": {
          "base_uri": "https://localhost:8080/"
        },
        "id": "hzyhrZ6ou7DP",
        "outputId": "6670f6b7-cbd1-48d4-e556-07a79198cf51"
      },
      "outputs": [
        {
          "data": {
            "text/plain": [
              "{'input_ids': tensor([ 101, 3095, 9202, 2149,  102,    0,    0,    0,    0,    0,    0,    0,\n",
              "            0,    0,    0,    0,    0,    0,    0,    0,    0,    0,    0,    0,\n",
              "            0,    0,    0,    0,    0,    0,    0,    0,    0,    0,    0,    0,\n",
              "            0,    0,    0,    0,    0,    0,    0,    0,    0,    0,    0,    0,\n",
              "            0,    0,    0,    0,    0,    0,    0,    0,    0,    0,    0,    0,\n",
              "            0,    0,    0,    0,    0,    0,    0,    0,    0,    0,    0,    0,\n",
              "            0,    0,    0,    0,    0,    0,    0,    0,    0,    0,    0,    0,\n",
              "            0,    0,    0,    0,    0,    0,    0,    0,    0,    0,    0,    0,\n",
              "            0,    0,    0,    0,    0,    0,    0,    0,    0,    0,    0,    0,\n",
              "            0,    0,    0,    0,    0,    0,    0,    0,    0,    0,    0,    0,\n",
              "            0,    0,    0,    0,    0,    0,    0,    0,    0,    0,    0,    0,\n",
              "            0,    0,    0,    0,    0,    0,    0,    0,    0,    0,    0,    0,\n",
              "            0,    0,    0,    0,    0,    0,    0,    0,    0,    0,    0,    0,\n",
              "            0,    0,    0,    0,    0,    0,    0,    0,    0,    0,    0,    0,\n",
              "            0,    0,    0,    0,    0,    0,    0,    0,    0,    0,    0,    0]),\n",
              " 'attention_mask': tensor([1, 1, 1, 1, 1, 0, 0, 0, 0, 0, 0, 0, 0, 0, 0, 0, 0, 0, 0, 0, 0, 0, 0, 0,\n",
              "         0, 0, 0, 0, 0, 0, 0, 0, 0, 0, 0, 0, 0, 0, 0, 0, 0, 0, 0, 0, 0, 0, 0, 0,\n",
              "         0, 0, 0, 0, 0, 0, 0, 0, 0, 0, 0, 0, 0, 0, 0, 0, 0, 0, 0, 0, 0, 0, 0, 0,\n",
              "         0, 0, 0, 0, 0, 0, 0, 0, 0, 0, 0, 0, 0, 0, 0, 0, 0, 0, 0, 0, 0, 0, 0, 0,\n",
              "         0, 0, 0, 0, 0, 0, 0, 0, 0, 0, 0, 0, 0, 0, 0, 0, 0, 0, 0, 0, 0, 0, 0, 0,\n",
              "         0, 0, 0, 0, 0, 0, 0, 0, 0, 0, 0, 0, 0, 0, 0, 0, 0, 0, 0, 0, 0, 0, 0, 0,\n",
              "         0, 0, 0, 0, 0, 0, 0, 0, 0, 0, 0, 0, 0, 0, 0, 0, 0, 0, 0, 0, 0, 0, 0, 0,\n",
              "         0, 0, 0, 0, 0, 0, 0, 0, 0, 0, 0, 0]),\n",
              " 'token_type_ids': tensor([0, 0, 0, 0, 0, 0, 0, 0, 0, 0, 0, 0, 0, 0, 0, 0, 0, 0, 0, 0, 0, 0, 0, 0,\n",
              "         0, 0, 0, 0, 0, 0, 0, 0, 0, 0, 0, 0, 0, 0, 0, 0, 0, 0, 0, 0, 0, 0, 0, 0,\n",
              "         0, 0, 0, 0, 0, 0, 0, 0, 0, 0, 0, 0, 0, 0, 0, 0, 0, 0, 0, 0, 0, 0, 0, 0,\n",
              "         0, 0, 0, 0, 0, 0, 0, 0, 0, 0, 0, 0, 0, 0, 0, 0, 0, 0, 0, 0, 0, 0, 0, 0,\n",
              "         0, 0, 0, 0, 0, 0, 0, 0, 0, 0, 0, 0, 0, 0, 0, 0, 0, 0, 0, 0, 0, 0, 0, 0,\n",
              "         0, 0, 0, 0, 0, 0, 0, 0, 0, 0, 0, 0, 0, 0, 0, 0, 0, 0, 0, 0, 0, 0, 0, 0,\n",
              "         0, 0, 0, 0, 0, 0, 0, 0, 0, 0, 0, 0, 0, 0, 0, 0, 0, 0, 0, 0, 0, 0, 0, 0,\n",
              "         0, 0, 0, 0, 0, 0, 0, 0, 0, 0, 0, 0]),\n",
              " 'labels': tensor([0., 0., 0., 0., 0., 0., 0., 0., 0., 0., 0., 0., 1., 0., 0.])}"
            ]
          },
          "execution_count": 53,
          "metadata": {},
          "output_type": "execute_result"
        }
      ],
      "source": [
        "train_dataset[0]"
      ]
    },
    {
      "cell_type": "code",
      "execution_count": null,
      "metadata": {
        "id": "ET3rGeThf1lZ"
      },
      "outputs": [],
      "source": [
        "learning_rate = 1e-5\n",
        "batch_size = 8\n",
        "metric_name = \"micro_f1\""
      ]
    },
    {
      "cell_type": "code",
      "execution_count": null,
      "metadata": {
        "colab": {
          "base_uri": "https://localhost:8080/",
          "height": 127
        },
        "id": "j37sGV0WyP37",
        "outputId": "c36284ae-5ee3-4a98-f0a3-b3eb87b8c501"
      },
      "outputs": [
        {
          "data": {
            "application/vnd.google.colaboratory.intrinsic+json": {
              "type": "string"
            },
            "text/plain": [
              "'[CLS] staff horrible us [SEP] [PAD] [PAD] [PAD] [PAD] [PAD] [PAD] [PAD] [PAD] [PAD] [PAD] [PAD] [PAD] [PAD] [PAD] [PAD] [PAD] [PAD] [PAD] [PAD] [PAD] [PAD] [PAD] [PAD] [PAD] [PAD] [PAD] [PAD] [PAD] [PAD] [PAD] [PAD] [PAD] [PAD] [PAD] [PAD] [PAD] [PAD] [PAD] [PAD] [PAD] [PAD] [PAD] [PAD] [PAD] [PAD] [PAD] [PAD] [PAD] [PAD] [PAD] [PAD] [PAD] [PAD] [PAD] [PAD] [PAD] [PAD] [PAD] [PAD] [PAD] [PAD] [PAD] [PAD] [PAD] [PAD] [PAD] [PAD] [PAD] [PAD] [PAD] [PAD] [PAD] [PAD] [PAD] [PAD] [PAD] [PAD] [PAD] [PAD] [PAD] [PAD] [PAD] [PAD] [PAD] [PAD] [PAD] [PAD] [PAD] [PAD] [PAD] [PAD] [PAD] [PAD] [PAD] [PAD] [PAD] [PAD] [PAD] [PAD] [PAD] [PAD] [PAD] [PAD] [PAD] [PAD] [PAD] [PAD] [PAD] [PAD] [PAD] [PAD] [PAD] [PAD] [PAD] [PAD] [PAD] [PAD] [PAD] [PAD] [PAD] [PAD] [PAD] [PAD] [PAD] [PAD] [PAD] [PAD] [PAD] [PAD] [PAD] [PAD] [PAD] [PAD] [PAD] [PAD] [PAD] [PAD] [PAD] [PAD] [PAD] [PAD] [PAD] [PAD] [PAD] [PAD] [PAD] [PAD] [PAD] [PAD] [PAD] [PAD] [PAD] [PAD] [PAD] [PAD] [PAD] [PAD] [PAD] [PAD] [PAD] [PAD] [PAD] [PAD] [PAD] [PAD] [PAD] [PAD] [PAD] [PAD] [PAD] [PAD] [PAD] [PAD] [PAD] [PAD]'"
            ]
          },
          "execution_count": 75,
          "metadata": {},
          "output_type": "execute_result"
        }
      ],
      "source": [
        "tokenizer.decode(train_dataset[0]['input_ids'])"
      ]
    },
    {
      "cell_type": "code",
      "execution_count": null,
      "metadata": {
        "colab": {
          "base_uri": "https://localhost:8080/"
        },
        "id": "0WtKivVSyLbK",
        "outputId": "cdc42427-86a4-4bdc-cd3d-abca374adba3"
      },
      "outputs": [
        {
          "name": "stderr",
          "output_type": "stream",
          "text": [
            "Some weights of BertForSequenceClassification were not initialized from the model checkpoint at bert-base-uncased and are newly initialized: ['classifier.bias', 'classifier.weight']\n",
            "You should probably TRAIN this model on a down-stream task to be able to use it for predictions and inference.\n"
          ]
        }
      ],
      "source": [
        "model = AutoModelForSequenceClassification.from_pretrained('bert-base-uncased',\n",
        "                                                           problem_type='multi_label_classification',\n",
        "                                                           num_labels=15,\n",
        "                                                           id2label=joint_idx_to_text,\n",
        "                                                           label2id={v: k for k, v in joint_idx_to_text.items()})"
      ]
    },
    {
      "cell_type": "code",
      "execution_count": null,
      "metadata": {
        "id": "qiatK6Q9f0we"
      },
      "outputs": [],
      "source": [
        "optimizer = AdamW(model.parameters(), lr=learning_rate)"
      ]
    },
    {
      "cell_type": "code",
      "execution_count": null,
      "metadata": {
        "id": "7FiQmXZPv88m"
      },
      "outputs": [],
      "source": []
    },
    {
      "cell_type": "code",
      "execution_count": null,
      "metadata": {
        "id": "V4GWfjTjUJML"
      },
      "outputs": [],
      "source": [
        "args = TrainingArguments(\n",
        "    f'bert-finetuned-sem_eval-english',\n",
        "    evaluation_strategy = 'epoch',\n",
        "    save_strategy = 'epoch',\n",
        "    learning_rate=learning_rate,\n",
        "    per_device_train_batch_size=batch_size,\n",
        "    per_device_eval_batch_size=batch_size,\n",
        "    num_train_epochs=20,\n",
        "    weight_decay=0.01,\n",
        "    load_best_model_at_end=True,\n",
        "    metric_for_best_model=metric_name,\n",
        "    optim='adamw_torch'\n",
        ")"
      ]
    },
    {
      "cell_type": "code",
      "execution_count": null,
      "metadata": {
        "id": "39t7ED_xUJXJ"
      },
      "outputs": [],
      "source": [
        "def multi_label_metrics(predictions, labels, threshold=0.5):\n",
        "    # first, apply sigmoid on predictions which are of shape (batch_size, num_labels)\n",
        "    sigmoid = torch.nn.Sigmoid()\n",
        "    probs = sigmoid(torch.Tensor(predictions))\n",
        "    # next, use threshold to turn them into integer predictions\n",
        "    y_pred = np.zeros(probs.shape)\n",
        "    y_pred[np.where(probs >= threshold)] = 1\n",
        "    # finally, compute metrics\n",
        "    y_true = labels\n",
        "\n",
        "    accuracy = accuracy_score(y_true, y_pred)\n",
        "\n",
        "    exact_accuracy = MultilabelAccuracy(criteria='exact_match')\n",
        "    exact_accuracy.update(target=torch.Tensor(y_true), input=torch.Tensor(y_pred))\n",
        "\n",
        "    overlap_accuracy = MultilabelAccuracy(criteria='overlap')\n",
        "    overlap_accuracy.update(target=torch.Tensor(y_true), input=torch.Tensor(y_pred))\n",
        "\n",
        "    macro_f1 = f1_score(y_true, y_pred, average='macro')\n",
        "    micro_f1 = f1_score(y_true, y_pred, average='micro')\n",
        "\n",
        "    metrics = {}\n",
        "    metrics = {\n",
        "        'accuracy' : accuracy,\n",
        "        'exact_match_accuracy': exact_accuracy.compute().detach().item(),\n",
        "        'overlap_accuracy': overlap_accuracy.compute().detach().item(),\n",
        "        'macro_f1': macro_f1,\n",
        "        'micro_f1': micro_f1\n",
        "    }\n",
        "\n",
        "\n",
        "    return metrics\n",
        "\n",
        "\n",
        "def compute_metrics(p: EvalPrediction):\n",
        "    preds = p.predictions[0] if isinstance(p.predictions,\n",
        "            tuple) else p.predictions\n",
        "    result = multi_label_metrics(\n",
        "        predictions=preds,\n",
        "        labels=p.label_ids)\n",
        "    return result\n",
        "\n",
        "\n",
        "def pretty_table(dict):\n",
        "    table = PrettyTable()\n",
        "    table.field_names = ['metric', 'value']\n",
        "    for k,v in dict.items():\n",
        "        table.add_row([k, v])\n",
        "    print(table)"
      ]
    },
    {
      "cell_type": "code",
      "execution_count": null,
      "metadata": {
        "id": "lDVy_6aN5mri"
      },
      "outputs": [],
      "source": [
        "trainer = Trainer(\n",
        "    model,\n",
        "    args,\n",
        "    train_dataset=train_dataset,\n",
        "    eval_dataset=test_dataset,\n",
        "    tokenizer=tokenizer,\n",
        "    compute_metrics=compute_metrics\n",
        ")"
      ]
    },
    {
      "cell_type": "code",
      "execution_count": null,
      "metadata": {
        "colab": {
          "base_uri": "https://localhost:8080/",
          "height": 739
        },
        "id": "fUWdqgOD6I7l",
        "outputId": "d8b09a83-bb76-4d8d-d07a-b9b23de67677"
      },
      "outputs": [
        {
          "data": {
            "text/html": [
              "\n",
              "    <div>\n",
              "      \n",
              "      <progress value='7140' max='7140' style='width:300px; height:20px; vertical-align: middle;'></progress>\n",
              "      [7140/7140 39:24, Epoch 20/20]\n",
              "    </div>\n",
              "    <table border=\"1\" class=\"dataframe\">\n",
              "  <thead>\n",
              " <tr style=\"text-align: left;\">\n",
              "      <th>Epoch</th>\n",
              "      <th>Training Loss</th>\n",
              "      <th>Validation Loss</th>\n",
              "      <th>Accuracy</th>\n",
              "      <th>Exact Match Accuracy</th>\n",
              "      <th>Overlap Accuracy</th>\n",
              "      <th>Macro F1</th>\n",
              "      <th>Micro F1</th>\n",
              "    </tr>\n",
              "  </thead>\n",
              "  <tbody>\n",
              "    <tr>\n",
              "      <td>1</td>\n",
              "      <td>No log</td>\n",
              "      <td>0.226649</td>\n",
              "      <td>0.208278</td>\n",
              "      <td>0.208278</td>\n",
              "      <td>0.301736</td>\n",
              "      <td>0.051334</td>\n",
              "      <td>0.363052</td>\n",
              "    </tr>\n",
              "    <tr>\n",
              "      <td>2</td>\n",
              "      <td>0.288500</td>\n",
              "      <td>0.197096</td>\n",
              "      <td>0.218959</td>\n",
              "      <td>0.218959</td>\n",
              "      <td>0.332443</td>\n",
              "      <td>0.105069</td>\n",
              "      <td>0.432258</td>\n",
              "    </tr>\n",
              "    <tr>\n",
              "      <td>3</td>\n",
              "      <td>0.196400</td>\n",
              "      <td>0.166405</td>\n",
              "      <td>0.356475</td>\n",
              "      <td>0.356475</td>\n",
              "      <td>0.479306</td>\n",
              "      <td>0.196430</td>\n",
              "      <td>0.564875</td>\n",
              "    </tr>\n",
              "    <tr>\n",
              "      <td>4</td>\n",
              "      <td>0.196400</td>\n",
              "      <td>0.147412</td>\n",
              "      <td>0.439252</td>\n",
              "      <td>0.439252</td>\n",
              "      <td>0.580774</td>\n",
              "      <td>0.266466</td>\n",
              "      <td>0.626649</td>\n",
              "    </tr>\n",
              "    <tr>\n",
              "      <td>5</td>\n",
              "      <td>0.156400</td>\n",
              "      <td>0.137081</td>\n",
              "      <td>0.506008</td>\n",
              "      <td>0.506008</td>\n",
              "      <td>0.648865</td>\n",
              "      <td>0.319529</td>\n",
              "      <td>0.668329</td>\n",
              "    </tr>\n",
              "    <tr>\n",
              "      <td>6</td>\n",
              "      <td>0.122200</td>\n",
              "      <td>0.132778</td>\n",
              "      <td>0.584780</td>\n",
              "      <td>0.584780</td>\n",
              "      <td>0.692924</td>\n",
              "      <td>0.402439</td>\n",
              "      <td>0.713703</td>\n",
              "    </tr>\n",
              "    <tr>\n",
              "      <td>7</td>\n",
              "      <td>0.122200</td>\n",
              "      <td>0.130309</td>\n",
              "      <td>0.578104</td>\n",
              "      <td>0.578104</td>\n",
              "      <td>0.700935</td>\n",
              "      <td>0.419192</td>\n",
              "      <td>0.711292</td>\n",
              "    </tr>\n",
              "    <tr>\n",
              "      <td>8</td>\n",
              "      <td>0.097200</td>\n",
              "      <td>0.131166</td>\n",
              "      <td>0.583445</td>\n",
              "      <td>0.583445</td>\n",
              "      <td>0.710280</td>\n",
              "      <td>0.425316</td>\n",
              "      <td>0.712894</td>\n",
              "    </tr>\n",
              "    <tr>\n",
              "      <td>9</td>\n",
              "      <td>0.080400</td>\n",
              "      <td>0.129358</td>\n",
              "      <td>0.588785</td>\n",
              "      <td>0.588785</td>\n",
              "      <td>0.715621</td>\n",
              "      <td>0.433692</td>\n",
              "      <td>0.717890</td>\n",
              "    </tr>\n",
              "    <tr>\n",
              "      <td>10</td>\n",
              "      <td>0.067200</td>\n",
              "      <td>0.131543</td>\n",
              "      <td>0.583445</td>\n",
              "      <td>0.583445</td>\n",
              "      <td>0.704940</td>\n",
              "      <td>0.462421</td>\n",
              "      <td>0.715429</td>\n",
              "    </tr>\n",
              "    <tr>\n",
              "      <td>11</td>\n",
              "      <td>0.067200</td>\n",
              "      <td>0.129146</td>\n",
              "      <td>0.602136</td>\n",
              "      <td>0.602136</td>\n",
              "      <td>0.732977</td>\n",
              "      <td>0.478552</td>\n",
              "      <td>0.725534</td>\n",
              "    </tr>\n",
              "    <tr>\n",
              "      <td>12</td>\n",
              "      <td>0.059500</td>\n",
              "      <td>0.131163</td>\n",
              "      <td>0.607477</td>\n",
              "      <td>0.607477</td>\n",
              "      <td>0.728972</td>\n",
              "      <td>0.477235</td>\n",
              "      <td>0.723810</td>\n",
              "    </tr>\n",
              "    <tr>\n",
              "      <td>13</td>\n",
              "      <td>0.051100</td>\n",
              "      <td>0.131546</td>\n",
              "      <td>0.606142</td>\n",
              "      <td>0.606142</td>\n",
              "      <td>0.734312</td>\n",
              "      <td>0.475860</td>\n",
              "      <td>0.725446</td>\n",
              "    </tr>\n",
              "    <tr>\n",
              "      <td>14</td>\n",
              "      <td>0.051100</td>\n",
              "      <td>0.132622</td>\n",
              "      <td>0.612817</td>\n",
              "      <td>0.612817</td>\n",
              "      <td>0.743658</td>\n",
              "      <td>0.493237</td>\n",
              "      <td>0.733445</td>\n",
              "    </tr>\n",
              "    <tr>\n",
              "      <td>15</td>\n",
              "      <td>0.046300</td>\n",
              "      <td>0.134013</td>\n",
              "      <td>0.612817</td>\n",
              "      <td>0.612817</td>\n",
              "      <td>0.746328</td>\n",
              "      <td>0.498359</td>\n",
              "      <td>0.731599</td>\n",
              "    </tr>\n",
              "    <tr>\n",
              "      <td>16</td>\n",
              "      <td>0.041700</td>\n",
              "      <td>0.133932</td>\n",
              "      <td>0.607477</td>\n",
              "      <td>0.607477</td>\n",
              "      <td>0.746328</td>\n",
              "      <td>0.495562</td>\n",
              "      <td>0.727273</td>\n",
              "    </tr>\n",
              "    <tr>\n",
              "      <td>17</td>\n",
              "      <td>0.038900</td>\n",
              "      <td>0.135100</td>\n",
              "      <td>0.615487</td>\n",
              "      <td>0.615487</td>\n",
              "      <td>0.748999</td>\n",
              "      <td>0.498457</td>\n",
              "      <td>0.733151</td>\n",
              "    </tr>\n",
              "    <tr>\n",
              "      <td>18</td>\n",
              "      <td>0.038900</td>\n",
              "      <td>0.136442</td>\n",
              "      <td>0.608812</td>\n",
              "      <td>0.608812</td>\n",
              "      <td>0.747664</td>\n",
              "      <td>0.506900</td>\n",
              "      <td>0.729774</td>\n",
              "    </tr>\n",
              "    <tr>\n",
              "      <td>19</td>\n",
              "      <td>0.036400</td>\n",
              "      <td>0.135168</td>\n",
              "      <td>0.614152</td>\n",
              "      <td>0.614152</td>\n",
              "      <td>0.751669</td>\n",
              "      <td>0.503992</td>\n",
              "      <td>0.730368</td>\n",
              "    </tr>\n",
              "    <tr>\n",
              "      <td>20</td>\n",
              "      <td>0.035300</td>\n",
              "      <td>0.135675</td>\n",
              "      <td>0.611482</td>\n",
              "      <td>0.611482</td>\n",
              "      <td>0.746328</td>\n",
              "      <td>0.498847</td>\n",
              "      <td>0.726374</td>\n",
              "    </tr>\n",
              "  </tbody>\n",
              "</table><p>"
            ],
            "text/plain": [
              "<IPython.core.display.HTML object>"
            ]
          },
          "metadata": {},
          "output_type": "display_data"
        },
        {
          "data": {
            "text/plain": [
              "TrainOutput(global_step=7140, training_loss=0.09293063348080932, metrics={'train_runtime': 2364.7488, 'train_samples_per_second': 24.129, 'train_steps_per_second': 3.019, 'total_flos': 5278664944749600.0, 'train_loss': 0.09293063348080932, 'epoch': 20.0})"
            ]
          },
          "execution_count": 81,
          "metadata": {},
          "output_type": "execute_result"
        }
      ],
      "source": [
        "trainer.train()"
      ]
    },
    {
      "cell_type": "code",
      "execution_count": null,
      "metadata": {
        "colab": {
          "base_uri": "https://localhost:8080/",
          "height": 294
        },
        "id": "eZ11vHJH6K4G",
        "outputId": "8ee6a1db-0e55-4f9b-d638-fea7800debb3"
      },
      "outputs": [
        {
          "data": {
            "text/html": [
              "\n",
              "    <div>\n",
              "      \n",
              "      <progress value='282' max='94' style='width:300px; height:20px; vertical-align: middle;'></progress>\n",
              "      [94/94 02:40]\n",
              "    </div>\n",
              "    "
            ],
            "text/plain": [
              "<IPython.core.display.HTML object>"
            ]
          },
          "metadata": {},
          "output_type": "display_data"
        },
        {
          "name": "stdout",
          "output_type": "stream",
          "text": [
            "+---------------------------+---------------------+\n",
            "|           metric          |        value        |\n",
            "+---------------------------+---------------------+\n",
            "|         eval_loss         | 0.13262231647968292 |\n",
            "|       eval_accuracy       |  0.6128170894526035 |\n",
            "| eval_exact_match_accuracy |  0.612817108631134  |\n",
            "|   eval_overlap_accuracy   |  0.743658185005188  |\n",
            "|       eval_macro_f1       |  0.4932365879489153 |\n",
            "|       eval_micro_f1       |  0.7334446299387868 |\n",
            "|        eval_runtime       |        8.7618       |\n",
            "|  eval_samples_per_second  |        85.484       |\n",
            "|   eval_steps_per_second   |        10.728       |\n",
            "|           epoch           |         20.0        |\n",
            "+---------------------------+---------------------+\n"
          ]
        }
      ],
      "source": [
        "pretty_table(trainer.evaluate())"
      ]
    },
    {
      "cell_type": "code",
      "execution_count": null,
      "metadata": {
        "id": "bvA234PjPtR_"
      },
      "outputs": [],
      "source": [
        "# Taken from the training table above\n",
        "\n",
        "train_loss = [0.288500, 0.288500, 0.196400, 0.196400, 0.156400, 0.122200, 0.122200, 0.097200, 0.080400, 0.067200, 0.067200, 0.059500, 0.051100, 0.051100, 0.046300, 0.041700, 0.038900, 0.038900, 0.036400, 0.035300]\n",
        "val_loss = [0.226649, 0.197096, 0.166405, 0.147412, 0.137081, 0.132778, 0.130309, 0.131166, 0.129358, 0.131543, 0.129146, 0.131163, 0.131546, 0.132622, 0.134013, 0.133932, 0.135100, 0.136442, 0.135168, 0.135675]"
      ]
    },
    {
      "cell_type": "code",
      "execution_count": null,
      "metadata": {
        "id": "cUBO_m5IWhib"
      },
      "outputs": [],
      "source": [
        "from matplotlib import pyplot as plt"
      ]
    },
    {
      "cell_type": "code",
      "execution_count": null,
      "metadata": {
        "colab": {
          "base_uri": "https://localhost:8080/",
          "height": 607
        },
        "id": "XIDBXORDW2DA",
        "outputId": "b1d66317-8408-4d50-a057-b510729388cd"
      },
      "outputs": [
        {
          "data": {
            "image/png": "[encoded data removed]",
            "text/plain": [
              "<Figure size 1500x600 with 1 Axes>"
            ]
          },
          "metadata": {},
          "output_type": "display_data"
        }
      ],
      "source": [
        "epochs = list(range(1, len(train_loss) + 1))\n",
        "plt.figure(figsize=(15, 6))\n",
        "\n",
        "# Plot train loss\n",
        "plt.plot(epochs, train_loss, label='Train Loss', marker='o')\n",
        "\n",
        "# Plot validation loss\n",
        "plt.plot(epochs, val_loss, label='Validation Loss', marker='o')\n",
        "\n",
        "# Set plot labels and title\n",
        "plt.xlabel('Epochs')\n",
        "plt.ylabel('Loss')\n",
        "plt.title('Training and Validation Loss Over Epochs')\n",
        "\n",
        "# Display legend\n",
        "plt.legend()\n",
        "\n",
        "# Show the plot\n",
        "plt.grid(False)\n",
        "plt.tight_layout()\n",
        "plt.savefig('bert_joint_plot.png')\n",
        "plt.show()"
      ]
    },
    {
      "cell_type": "code",
      "execution_count": null,
      "metadata": {
        "id": "nrKJYvqgW5NE"
      },
      "outputs": [],
      "source": []
    }
  ],
  "metadata": {
    "accelerator": "GPU",
    "colab": {
      "gpuType": "T4",
      "provenance": []
    },
    "kernelspec": {
      "display_name": "Python 3",
      "name": "python3"
    },
    "language_info": {
      "name": "python"
    }
  },
  "nbformat": 4,
  "nbformat_minor": 0
}
